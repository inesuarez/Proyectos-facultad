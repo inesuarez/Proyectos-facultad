{
  "nbformat": 4,
  "nbformat_minor": 0,
  "metadata": {
    "colab": {
      "provenance": []
    },
    "kernelspec": {
      "name": "python3",
      "display_name": "Python 3"
    },
    "language_info": {
      "name": "python"
    }
  },
  "cells": [
    {
      "cell_type": "code",
      "execution_count": null,
      "metadata": {
        "id": "VeyjzBNPnPX5"
      },
      "outputs": [],
      "source": [
        "from matplotlib import pyplot as plt\n",
        "import numpy as np\n",
        "import pandas as pd"
      ]
    },
    {
      "cell_type": "code",
      "source": [
        "train_data = pd.read_csv(\"mnist_train.csv\")\n",
        "test_data = pd.read_csv(\"mnist_test.csv\")"
      ],
      "metadata": {
        "id": "B6KUxAF3nZgY"
      },
      "execution_count": null,
      "outputs": []
    },
    {
      "cell_type": "code",
      "source": [
        "#lo vamos a usar despues\n",
        "numero_test = test_data.iloc[0:200, 0]\n",
        "matriz_sin_numero_test = test_data.iloc[0:200, 1:785]\n",
        "numero_train = train_data.iloc[0:2000, 0]\n",
        "matriz_sin_numero_train = train_data.iloc[0:2000, 1:785]"
      ],
      "metadata": {
        "id": "DEiqc6I4-ndC"
      },
      "execution_count": null,
      "outputs": []
    },
    {
      "cell_type": "markdown",
      "source": [
        "Ejercicio 1"
      ],
      "metadata": {
        "id": "1TSVl0Djqh_b"
      }
    },
    {
      "cell_type": "code",
      "source": [
        "#1. a\n",
        "def imagen(n,train):\n",
        "  digito = train.iloc[n, 0]\n",
        "  digito_img = train.iloc[n, 1:]\n",
        "  digito_img = digito_img.values.reshape(28,28)\n",
        "  plt.imshow(digito_img, cmap= \"gray\")\n",
        "  plt.title(\"Digito %i\" %digito)\n",
        "#n es el numero de la fila que sera graficada"
      ],
      "metadata": {
        "id": "Z0vAsFXppAk1"
      },
      "execution_count": null,
      "outputs": []
    },
    {
      "cell_type": "code",
      "source": [
        "imagen(789,train_data)"
      ],
      "metadata": {
        "id": "IbuA1TA22LAL",
        "colab": {
          "base_uri": "https://localhost:8080/",
          "height": 452
        },
        "outputId": "d0173bfd-fb2a-4a16-9305-3380650c182f"
      },
      "execution_count": null,
      "outputs": [
        {
          "output_type": "display_data",
          "data": {
            "text/plain": [
              "<Figure size 640x480 with 1 Axes>"
            ],
            "image/png": "[encoded data removed]"
          },
          "metadata": {}
        }
      ]
    },
    {
      "cell_type": "code",
      "source": [
        "#1 b\n",
        "def cantidad_imagenes_train(n,train):\n",
        "  digitos = [0,1,2,3,4,5,6,7,8,9]\n",
        "  resultado = [0,0,0,0,0,0,0,0,0,0]\n",
        "  for i in range(train.shape[0]):\n",
        "    for j in range(10):\n",
        "      if train.iloc[i,0]==digitos[j]:\n",
        "        resultado[j] = resultado[j]+1\n",
        "  return resultado[n]"
      ],
      "metadata": {
        "id": "9FLsBHnYqog4"
      },
      "execution_count": null,
      "outputs": []
    },
    {
      "cell_type": "code",
      "source": [
        "print(\"hay\", cantidad_imagenes_train(0,train_data), \"imagenes del digito 0 en el conjunto de entrenamiento\")\n",
        "print(\"hay\", cantidad_imagenes_train(1,train_data), \"imagenes del digito 1 en el conjunto de entrenamiento\")\n",
        "print(\"hay\", cantidad_imagenes_train(2,train_data), \"imagenes del digito 2 en el conjunto de entrenamiento\")\n",
        "print(\"hay\", cantidad_imagenes_train(3,train_data), \"imagenes del digito 3 en el conjunto de entrenamiento\")\n",
        "print(\"hay\", cantidad_imagenes_train(4,train_data), \"imagenes del digito 4 en el conjunto de entrenamiento\")\n",
        "print(\"hay\", cantidad_imagenes_train(5,train_data), \"imagenes del digito 5 en el conjunto de entrenamiento\")\n",
        "print(\"hay\", cantidad_imagenes_train(6,train_data), \"imagenes del digito 6 en el conjunto de entrenamiento\")\n",
        "print(\"hay\", cantidad_imagenes_train(7,train_data), \"imagenes del digito 7 en el conjunto de entrenamiento\")\n",
        "print(\"hay\", cantidad_imagenes_train(8,train_data), \"imagenes del digito 8 en el conjunto de entrenamiento\")\n",
        "print(\"hay\", cantidad_imagenes_train(9,train_data), \"imagenes del digito 9 en el conjunto de entrenamiento\")\n"
      ],
      "metadata": {
        "id": "Np8AN7wkwsD7",
        "colab": {
          "base_uri": "https://localhost:8080/"
        },
        "outputId": "e966c09a-ae88-48b4-b374-83867738c876"
      },
      "execution_count": null,
      "outputs": [
        {
          "output_type": "stream",
          "name": "stdout",
          "text": [
            "hay 801 imagenes del digito 0 en el conjunto de entrenamiento\n",
            "hay 907 imagenes del digito 1 en el conjunto de entrenamiento\n",
            "hay 792 imagenes del digito 2 en el conjunto de entrenamiento\n",
            "hay 816 imagenes del digito 3 en el conjunto de entrenamiento\n",
            "hay 803 imagenes del digito 4 en el conjunto de entrenamiento\n",
            "hay 705 imagenes del digito 5 en el conjunto de entrenamiento\n",
            "hay 802 imagenes del digito 6 en el conjunto de entrenamiento\n",
            "hay 854 imagenes del digito 7 en el conjunto de entrenamiento\n",
            "hay 757 imagenes del digito 8 en el conjunto de entrenamiento\n",
            "hay 800 imagenes del digito 9 en el conjunto de entrenamiento\n"
          ]
        }
      ]
    },
    {
      "cell_type": "code",
      "source": [
        "def cantidad_imagenes_test(n,test):\n",
        "  digitos = [0,1,2,3,4,5,6,7,8,9]\n",
        "  resultado = [0,0,0,0,0,0,0,0,0,0]\n",
        "  for i in range(test.shape[0]):\n",
        "    for j in range(10):\n",
        "      if test.iloc[i,0]==digitos[j]:\n",
        "        resultado[j] = resultado[j]+1\n",
        "  return resultado[n]"
      ],
      "metadata": {
        "id": "ypPtrN_JzaB7"
      },
      "execution_count": null,
      "outputs": []
    },
    {
      "cell_type": "code",
      "source": [
        "print(\"hay\", cantidad_imagenes_test(0,test_data), \"imagenes del digito 0 en el conjunto de testeo\")\n",
        "print(\"hay\", cantidad_imagenes_test(1,test_data), \"imagenes del digito 1 en el conjunto de testeo\")\n",
        "print(\"hay\", cantidad_imagenes_test(2,test_data), \"imagenes del digito 2 en el conjunto de testeo\")\n",
        "print(\"hay\", cantidad_imagenes_test(3,test_data), \"imagenes del digito 3 en el conjunto de testeo\")\n",
        "print(\"hay\", cantidad_imagenes_test(4,test_data), \"imagenes del digito 4 en el conjunto de testeo\")\n",
        "print(\"hay\", cantidad_imagenes_test(5,test_data), \"imagenes del digito 5 en el conjunto de testeo\")\n",
        "print(\"hay\", cantidad_imagenes_test(6,test_data), \"imagenes del digito 6 en el conjunto de testeo\")\n",
        "print(\"hay\", cantidad_imagenes_test(7,test_data), \"imagenes del digito 7 en el conjunto de testeo\")\n",
        "print(\"hay\", cantidad_imagenes_test(8,test_data), \"imagenes del digito 8 en el conjunto de testeo\")\n",
        "print(\"hay\", cantidad_imagenes_test(9,test_data), \"imagenes del digito 9 en el conjunto de testeo\")"
      ],
      "metadata": {
        "id": "qyJGJSkKzay-",
        "colab": {
          "base_uri": "https://localhost:8080/"
        },
        "outputId": "58ee1744-7ae8-494e-b0c5-e6ad8f05a35a"
      },
      "execution_count": null,
      "outputs": [
        {
          "output_type": "stream",
          "name": "stdout",
          "text": [
            "hay 542 imagenes del digito 0 en el conjunto de testeo\n",
            "hay 659 imagenes del digito 1 en el conjunto de testeo\n",
            "hay 606 imagenes del digito 2 en el conjunto de testeo\n",
            "hay 576 imagenes del digito 3 en el conjunto de testeo\n",
            "hay 578 imagenes del digito 4 en el conjunto de testeo\n",
            "hay 524 imagenes del digito 5 en el conjunto de testeo\n",
            "hay 537 imagenes del digito 6 en el conjunto de testeo\n",
            "hay 588 imagenes del digito 7 en el conjunto de testeo\n",
            "hay 567 imagenes del digito 8 en el conjunto de testeo\n",
            "hay 598 imagenes del digito 9 en el conjunto de testeo\n"
          ]
        }
      ]
    },
    {
      "cell_type": "code",
      "source": [
        "#1 c\n",
        "#hicimos una funcion que calcule la cantidad de imagenes como el punto anterior pero con las primeras x cantidad de imagenes del conjunto de entrenamiento para despues usarla en promedio\n",
        "def cantidad_imagenes_trainx(n,train,x):\n",
        "  digitos = [0,1,2,3,4,5,6,7,8,9]\n",
        "  resultado = [0,0,0,0,0,0,0,0,0,0]\n",
        "  for i in range(x):\n",
        "    for j in range(10):\n",
        "      if train.iloc[i,0]==digitos[j]:\n",
        "        resultado[j] = resultado[j]+1\n",
        "  return resultado[n]\n",
        "\n",
        "#sumamos todas las imagenes del digito de entrada n sin la primera columna en un vector suma y despues lo dividimos por la cantidad de imagenes que fueron sumadas(promedio)\n",
        "\n",
        "def promedio(n,train,x):\n",
        "  suma = np.zeros(784)\n",
        "  sinNumero = train.iloc[0:x, 1:785]\n",
        "  numero = train.iloc[0:x, 0]\n",
        "  for j in range(x):\n",
        "    if n == numero[j]:\n",
        "      matriz = sinNumero.iloc[j].values\n",
        "      suma = np.add(suma,matriz)\n",
        "  promedio_fila = suma / cantidad_imagenes_trainx(n,train,x)\n",
        "  return promedio_fila\n",
        "\n",
        "#junta las imagenes promedio de todos los digitos en una lista\n",
        "\n",
        "def promedio_imagenes(train,x):\n",
        "  resultado = []\n",
        "  for i in range(10):\n",
        "    resultado.append(promedio(i,train,x))\n",
        "  return resultado\n"
      ],
      "metadata": {
        "id": "MmGZRDxg7lf8"
      },
      "execution_count": null,
      "outputs": []
    },
    {
      "cell_type": "code",
      "source": [
        "print(promedio(4,train_data,2000)) #Ejemplo con el digito 4"
      ],
      "metadata": {
        "colab": {
          "base_uri": "https://localhost:8080/"
        },
        "id": "EfNEdq0cNuHR",
        "outputId": "dd61d0fe-f7ad-49e6-e534-cbf336b96508"
      },
      "execution_count": null,
      "outputs": [
        {
          "output_type": "stream",
          "name": "stdout",
          "text": [
            "[0.00000000e+00 0.00000000e+00 0.00000000e+00 0.00000000e+00\n",
            " 0.00000000e+00 0.00000000e+00 0.00000000e+00 0.00000000e+00\n",
            " 0.00000000e+00 0.00000000e+00 0.00000000e+00 0.00000000e+00\n",
            " 0.00000000e+00 0.00000000e+00 0.00000000e+00 0.00000000e+00\n",
            " 0.00000000e+00 0.00000000e+00 0.00000000e+00 0.00000000e+00\n",
            " 0.00000000e+00 0.00000000e+00 0.00000000e+00 0.00000000e+00\n",
            " 0.00000000e+00 0.00000000e+00 0.00000000e+00 0.00000000e+00\n",
            " 0.00000000e+00 0.00000000e+00 0.00000000e+00 0.00000000e+00\n",
            " 0.00000000e+00 0.00000000e+00 0.00000000e+00 0.00000000e+00\n",
            " 0.00000000e+00 0.00000000e+00 0.00000000e+00 0.00000000e+00\n",
            " 0.00000000e+00 0.00000000e+00 0.00000000e+00 0.00000000e+00\n",
            " 0.00000000e+00 0.00000000e+00 0.00000000e+00 0.00000000e+00\n",
            " 0.00000000e+00 0.00000000e+00 0.00000000e+00 0.00000000e+00\n",
            " 0.00000000e+00 0.00000000e+00 0.00000000e+00 0.00000000e+00\n",
            " 0.00000000e+00 0.00000000e+00 0.00000000e+00 0.00000000e+00\n",
            " 0.00000000e+00 0.00000000e+00 0.00000000e+00 0.00000000e+00\n",
            " 0.00000000e+00 0.00000000e+00 0.00000000e+00 0.00000000e+00\n",
            " 0.00000000e+00 0.00000000e+00 0.00000000e+00 2.33644860e-01\n",
            " 9.15887850e-01 1.96261682e-01 0.00000000e+00 0.00000000e+00\n",
            " 0.00000000e+00 0.00000000e+00 0.00000000e+00 0.00000000e+00\n",
            " 0.00000000e+00 0.00000000e+00 0.00000000e+00 0.00000000e+00\n",
            " 0.00000000e+00 0.00000000e+00 0.00000000e+00 0.00000000e+00\n",
            " 0.00000000e+00 0.00000000e+00 0.00000000e+00 0.00000000e+00\n",
            " 0.00000000e+00 0.00000000e+00 0.00000000e+00 3.69158879e-01\n",
            " 1.14485981e+00 2.38317757e-01 4.67289720e-01 1.69626168e+00\n",
            " 2.25233645e+00 6.49532710e-01 2.71028037e-01 2.80373832e-02\n",
            " 8.59813084e-01 2.27102804e+00 1.62149533e+00 0.00000000e+00\n",
            " 0.00000000e+00 0.00000000e+00 0.00000000e+00 0.00000000e+00\n",
            " 0.00000000e+00 0.00000000e+00 0.00000000e+00 0.00000000e+00\n",
            " 2.10280374e-01 3.87850467e-01 4.20560748e-02 5.65420561e-01\n",
            " 1.42056075e+00 3.14953271e+00 3.57009346e+00 5.17757009e+00\n",
            " 4.36915888e+00 3.18224299e+00 3.92523364e+00 5.55140187e+00\n",
            " 5.06074766e+00 4.10280374e+00 8.95327103e+00 1.54672897e+01\n",
            " 1.88691589e+01 1.51915888e+01 9.87383178e+00 5.35981308e+00\n",
            " 2.07009346e+00 0.00000000e+00 0.00000000e+00 0.00000000e+00\n",
            " 0.00000000e+00 0.00000000e+00 0.00000000e+00 6.07476636e-02\n",
            " 1.15887850e+00 1.20093458e+00 1.65420561e+00 3.47196262e+00\n",
            " 5.41121495e+00 1.18691589e+01 2.14626168e+01 2.61214953e+01\n",
            " 2.02616822e+01 1.46168224e+01 1.36962617e+01 1.52476636e+01\n",
            " 1.68785047e+01 1.84953271e+01 3.16915888e+01 4.23691589e+01\n",
            " 4.30747664e+01 3.72056075e+01 3.02663551e+01 2.26308411e+01\n",
            " 1.12383178e+01 2.18224299e+00 0.00000000e+00 0.00000000e+00\n",
            " 0.00000000e+00 0.00000000e+00 0.00000000e+00 1.07943925e+00\n",
            " 2.63551402e+00 3.89719626e+00 4.51401869e+00 6.64485981e+00\n",
            " 1.31308411e+01 2.94859813e+01 4.58317757e+01 4.82429907e+01\n",
            " 3.64345794e+01 2.89813084e+01 2.25186916e+01 2.28831776e+01\n",
            " 2.84859813e+01 3.65841121e+01 5.73925234e+01 7.11962617e+01\n",
            " 6.74813084e+01 5.59392523e+01 4.29112150e+01 2.58317757e+01\n",
            " 1.37850467e+01 2.60747664e+00 5.74766355e-01 0.00000000e+00\n",
            " 0.00000000e+00 0.00000000e+00 0.00000000e+00 1.20093458e+00\n",
            " 3.92056075e+00 9.11682243e+00 9.07476636e+00 1.29859813e+01\n",
            " 2.77943925e+01 5.28177570e+01 6.77196262e+01 6.43738318e+01\n",
            " 4.64906542e+01 3.55560748e+01 2.94579439e+01 2.66822430e+01\n",
            " 4.03971963e+01 5.63177570e+01 8.20514019e+01 9.76168224e+01\n",
            " 8.60093458e+01 6.38551402e+01 4.24018692e+01 2.48691589e+01\n",
            " 1.16869159e+01 3.37383178e+00 6.96261682e-01 0.00000000e+00\n",
            " 0.00000000e+00 0.00000000e+00 0.00000000e+00 1.49065421e+00\n",
            " 7.83644860e+00 1.13504673e+01 1.59065421e+01 2.30000000e+01\n",
            " 4.04626168e+01 7.17710280e+01 8.53551402e+01 7.32242991e+01\n",
            " 6.08317757e+01 4.78317757e+01 3.38177570e+01 2.59813084e+01\n",
            " 4.95794393e+01 7.58364486e+01 1.03887850e+02 1.16808411e+02\n",
            " 9.92336449e+01 6.48177570e+01 4.00093458e+01 2.31962617e+01\n",
            " 5.42990654e+00 2.70560748e+00 0.00000000e+00 0.00000000e+00\n",
            " 0.00000000e+00 0.00000000e+00 0.00000000e+00 2.17757009e+00\n",
            " 8.53271028e+00 1.36495327e+01 2.22476636e+01 3.11168224e+01\n",
            " 5.68971963e+01 9.03130841e+01 9.74205607e+01 8.62149533e+01\n",
            " 7.43738318e+01 5.38364486e+01 2.92710280e+01 2.59579439e+01\n",
            " 5.72102804e+01 9.12757009e+01 1.20261682e+02 1.26556075e+02\n",
            " 1.00682243e+02 5.96355140e+01 3.48364486e+01 1.36775701e+01\n",
            " 3.60747664e+00 1.35981308e+00 0.00000000e+00 0.00000000e+00\n",
            " 0.00000000e+00 0.00000000e+00 0.00000000e+00 2.66822430e+00\n",
            " 8.41588785e+00 1.53831776e+01 2.71915888e+01 4.36028037e+01\n",
            " 7.69906542e+01 1.04046729e+02 1.14841121e+02 1.02457944e+02\n",
            " 7.58878505e+01 4.55467290e+01 2.14205607e+01 2.89252336e+01\n",
            " 6.51074766e+01 1.06411215e+02 1.32817757e+02 1.34644860e+02\n",
            " 9.57803738e+01 4.87523364e+01 2.33037383e+01 6.28037383e+00\n",
            " 1.61682243e+00 3.31775701e-01 0.00000000e+00 0.00000000e+00\n",
            " 0.00000000e+00 0.00000000e+00 0.00000000e+00 2.83177570e+00\n",
            " 9.09345794e+00 1.80233645e+01 3.28925234e+01 6.18364486e+01\n",
            " 9.50794393e+01 1.23817757e+02 1.30196262e+02 1.09056075e+02\n",
            " 6.32056075e+01 3.04485981e+01 1.91495327e+01 3.90467290e+01\n",
            " 8.03644860e+01 1.30242991e+02 1.46079439e+02 1.35434579e+02\n",
            " 8.32570093e+01 3.53691589e+01 1.75280374e+01 4.25233645e+00\n",
            " 8.64485981e-01 0.00000000e+00 0.00000000e+00 0.00000000e+00\n",
            " 0.00000000e+00 0.00000000e+00 0.00000000e+00 2.13084112e+00\n",
            " 9.61214953e+00 2.22056075e+01 4.39766355e+01 8.47803738e+01\n",
            " 1.17098131e+02 1.49799065e+02 1.42789720e+02 9.97149533e+01\n",
            " 5.00981308e+01 2.69672897e+01 2.97803738e+01 5.63598131e+01\n",
            " 1.06429907e+02 1.50523364e+02 1.57345794e+02 1.24841121e+02\n",
            " 6.73177570e+01 3.06214953e+01 1.48224299e+01 3.71495327e+00\n",
            " 2.65420561e+00 2.61682243e-01 0.00000000e+00 0.00000000e+00\n",
            " 0.00000000e+00 0.00000000e+00 0.00000000e+00 1.32242991e+00\n",
            " 1.13271028e+01 2.72803738e+01 5.87056075e+01 1.05158879e+02\n",
            " 1.40766355e+02 1.67406542e+02 1.48177570e+02 9.67570093e+01\n",
            " 5.90934579e+01 4.84859813e+01 6.11028037e+01 9.04252336e+01\n",
            " 1.45504673e+02 1.80873832e+02 1.62009346e+02 1.15205607e+02\n",
            " 7.04485981e+01 4.02289720e+01 2.17897196e+01 8.66822430e+00\n",
            " 5.28504673e+00 3.78504673e-01 0.00000000e+00 0.00000000e+00\n",
            " 0.00000000e+00 0.00000000e+00 0.00000000e+00 1.72897196e+00\n",
            " 1.16588785e+01 3.31915888e+01 7.43364486e+01 1.25056075e+02\n",
            " 1.63275701e+02 1.80140187e+02 1.59233645e+02 1.22588785e+02\n",
            " 1.04009346e+02 1.02915888e+02 1.16476636e+02 1.43878505e+02\n",
            " 1.83462617e+02 2.03780374e+02 1.66682243e+02 1.25359813e+02\n",
            " 8.19205607e+01 4.95934579e+01 2.64485981e+01 1.16915888e+01\n",
            " 3.38317757e+00 4.67289720e-03 0.00000000e+00 0.00000000e+00\n",
            " 0.00000000e+00 0.00000000e+00 0.00000000e+00 1.95794393e+00\n",
            " 1.08504673e+01 3.35887850e+01 8.17897196e+01 1.36855140e+02\n",
            " 1.76135514e+02 1.88864486e+02 1.82476636e+02 1.69102804e+02\n",
            " 1.64471963e+02 1.64191589e+02 1.67411215e+02 1.86635514e+02\n",
            " 2.07780374e+02 2.05247664e+02 1.72551402e+02 1.26322430e+02\n",
            " 8.36028037e+01 4.75140187e+01 2.62383178e+01 1.13411215e+01\n",
            " 2.89252336e+00 0.00000000e+00 0.00000000e+00 0.00000000e+00\n",
            " 0.00000000e+00 0.00000000e+00 0.00000000e+00 3.97196262e-01\n",
            " 8.17757009e+00 3.01635514e+01 7.13971963e+01 1.22023364e+02\n",
            " 1.58766355e+02 1.74009346e+02 1.76500000e+02 1.66621495e+02\n",
            " 1.63079439e+02 1.64331776e+02 1.75214953e+02 1.90490654e+02\n",
            " 1.99962617e+02 1.92943925e+02 1.61813084e+02 1.09168224e+02\n",
            " 6.94485981e+01 3.87149533e+01 2.34953271e+01 9.53738318e+00\n",
            " 5.02803738e+00 5.51401869e-01 0.00000000e+00 0.00000000e+00\n",
            " 0.00000000e+00 0.00000000e+00 0.00000000e+00 0.00000000e+00\n",
            " 3.83644860e+00 2.39953271e+01 4.69158879e+01 8.15046729e+01\n",
            " 9.79859813e+01 1.07257009e+02 1.12355140e+02 1.15070093e+02\n",
            " 1.17172897e+02 1.25336449e+02 1.46130841e+02 1.65752336e+02\n",
            " 1.71691589e+02 1.58285047e+02 1.18855140e+02 7.65560748e+01\n",
            " 4.47663551e+01 2.49252336e+01 1.39345794e+01 7.03738318e+00\n",
            " 4.31308411e+00 6.26168224e-01 0.00000000e+00 0.00000000e+00\n",
            " 0.00000000e+00 0.00000000e+00 0.00000000e+00 0.00000000e+00\n",
            " 1.09813084e+00 1.29065421e+01 2.39859813e+01 3.56121495e+01\n",
            " 4.41074766e+01 4.81962617e+01 5.09018692e+01 5.84018692e+01\n",
            " 6.29859813e+01 8.47289720e+01 1.17915888e+02 1.37686916e+02\n",
            " 1.35948598e+02 1.14556075e+02 7.63364486e+01 4.60233645e+01\n",
            " 2.55887850e+01 1.55140187e+01 8.28971963e+00 3.33177570e+00\n",
            " 1.17757009e+00 0.00000000e+00 0.00000000e+00 0.00000000e+00\n",
            " 0.00000000e+00 0.00000000e+00 0.00000000e+00 0.00000000e+00\n",
            " 1.26168224e-01 4.01869159e+00 9.11682243e+00 1.20560748e+01\n",
            " 1.16168224e+01 1.43551402e+01 2.23177570e+01 3.09112150e+01\n",
            " 4.61168224e+01 7.45934579e+01 1.08140187e+02 1.16481308e+02\n",
            " 1.13808411e+02 8.85000000e+01 6.17663551e+01 3.41261682e+01\n",
            " 2.04672897e+01 1.28878505e+01 6.08411215e+00 2.11214953e+00\n",
            " 1.17757009e+00 0.00000000e+00 0.00000000e+00 0.00000000e+00\n",
            " 0.00000000e+00 0.00000000e+00 0.00000000e+00 0.00000000e+00\n",
            " 0.00000000e+00 3.64485981e-01 2.58411215e+00 4.47196262e+00\n",
            " 6.11214953e+00 1.08177570e+01 1.76962617e+01 2.80327103e+01\n",
            " 4.71495327e+01 7.51121495e+01 9.92196262e+01 1.01462617e+02\n",
            " 9.12476636e+01 7.57616822e+01 5.38037383e+01 3.10467290e+01\n",
            " 1.91635514e+01 1.30327103e+01 6.72429907e+00 2.68691589e+00\n",
            " 1.17757009e+00 0.00000000e+00 0.00000000e+00 0.00000000e+00\n",
            " 0.00000000e+00 0.00000000e+00 0.00000000e+00 0.00000000e+00\n",
            " 0.00000000e+00 0.00000000e+00 8.08411215e-01 2.21962617e+00\n",
            " 6.62149533e+00 1.19205607e+01 1.99672897e+01 3.27056075e+01\n",
            " 5.28177570e+01 7.67616822e+01 8.94719626e+01 8.74158879e+01\n",
            " 7.54813084e+01 6.67570093e+01 4.98644860e+01 3.01682243e+01\n",
            " 1.98037383e+01 1.30747664e+01 6.34579439e+00 2.92523364e+00\n",
            " 1.17757009e+00 0.00000000e+00 0.00000000e+00 0.00000000e+00\n",
            " 0.00000000e+00 0.00000000e+00 0.00000000e+00 0.00000000e+00\n",
            " 0.00000000e+00 6.21495327e-01 1.01401869e+00 4.36448598e+00\n",
            " 7.91121495e+00 1.32383178e+01 2.59439252e+01 3.88177570e+01\n",
            " 5.40794393e+01 7.35560748e+01 8.08504673e+01 7.35467290e+01\n",
            " 6.36168224e+01 5.92803738e+01 4.66682243e+01 2.92336449e+01\n",
            " 1.74672897e+01 1.00467290e+01 5.47663551e+00 3.22429907e+00\n",
            " 1.17757009e+00 0.00000000e+00 0.00000000e+00 0.00000000e+00\n",
            " 0.00000000e+00 0.00000000e+00 0.00000000e+00 0.00000000e+00\n",
            " 0.00000000e+00 7.57009346e-01 1.78971963e+00 5.47196262e+00\n",
            " 6.87850467e+00 1.55887850e+01 2.62990654e+01 3.82289720e+01\n",
            " 5.08224299e+01 6.42383178e+01 6.61728972e+01 5.80747664e+01\n",
            " 5.21401869e+01 5.38084112e+01 4.09626168e+01 2.50654206e+01\n",
            " 1.39766355e+01 6.54205607e+00 3.68224299e+00 3.45794393e+00\n",
            " 2.75700935e-01 0.00000000e+00 0.00000000e+00 0.00000000e+00\n",
            " 0.00000000e+00 0.00000000e+00 0.00000000e+00 0.00000000e+00\n",
            " 0.00000000e+00 0.00000000e+00 2.67289720e+00 3.72429907e+00\n",
            " 2.62616822e+00 1.04626168e+01 1.51495327e+01 2.39859813e+01\n",
            " 3.18738318e+01 3.95420561e+01 3.58878505e+01 2.72990654e+01\n",
            " 3.21028037e+01 3.26728972e+01 2.56869159e+01 1.38831776e+01\n",
            " 8.26635514e+00 3.13551402e+00 1.92523364e+00 1.76635514e+00\n",
            " 1.02803738e-01 0.00000000e+00 0.00000000e+00 0.00000000e+00\n",
            " 0.00000000e+00 0.00000000e+00 0.00000000e+00 0.00000000e+00\n",
            " 0.00000000e+00 0.00000000e+00 5.14018692e-02 0.00000000e+00\n",
            " 9.71962617e-01 3.85981308e+00 2.06074766e+00 9.43925234e-01\n",
            " 2.74299065e+00 7.66822430e+00 9.96261682e+00 6.90654206e+00\n",
            " 7.45794393e+00 7.00934579e+00 4.32710280e+00 3.00934579e+00\n",
            " 2.48598131e+00 7.24299065e-01 0.00000000e+00 0.00000000e+00\n",
            " 0.00000000e+00 0.00000000e+00 0.00000000e+00 0.00000000e+00\n",
            " 0.00000000e+00 0.00000000e+00 0.00000000e+00 0.00000000e+00\n",
            " 0.00000000e+00 0.00000000e+00 0.00000000e+00 0.00000000e+00\n",
            " 8.13084112e-01 5.09345794e-01 0.00000000e+00 0.00000000e+00\n",
            " 0.00000000e+00 3.69158879e-01 0.00000000e+00 0.00000000e+00\n",
            " 0.00000000e+00 8.64485981e-01 1.00000000e+00 9.34579439e-02\n",
            " 0.00000000e+00 0.00000000e+00 0.00000000e+00 0.00000000e+00\n",
            " 0.00000000e+00 0.00000000e+00 0.00000000e+00 0.00000000e+00\n",
            " 0.00000000e+00 0.00000000e+00 0.00000000e+00 0.00000000e+00\n",
            " 0.00000000e+00 0.00000000e+00 0.00000000e+00 0.00000000e+00\n",
            " 0.00000000e+00 0.00000000e+00 0.00000000e+00 0.00000000e+00\n",
            " 0.00000000e+00 0.00000000e+00 0.00000000e+00 0.00000000e+00\n",
            " 0.00000000e+00 0.00000000e+00 0.00000000e+00 0.00000000e+00\n",
            " 0.00000000e+00 0.00000000e+00 0.00000000e+00 0.00000000e+00\n",
            " 0.00000000e+00 0.00000000e+00 0.00000000e+00 0.00000000e+00]\n"
          ]
        }
      ]
    },
    {
      "cell_type": "code",
      "source": [
        "promedios = promedio_imagenes(train_data,2000)\n",
        "#guardamos los promedios en una lista para poder acceder mas rapido a ellos y que las fuciones que necesitan calcularlo no tengan que hacerlo una y otra vez"
      ],
      "metadata": {
        "id": "Ka_2M7dOkFtz"
      },
      "execution_count": null,
      "outputs": []
    },
    {
      "cell_type": "code",
      "source": [
        "#1 d\n",
        "#graficamos todas las imagenes promedio\n",
        "def graficar_imagenes(train):\n",
        "  fig, axes = plt.subplots(2, 5, figsize=(10, 4))\n",
        "  for i in range(10):\n",
        "    im =pd.Series(promedios[i])\n",
        "    imagen_promedio = im.values\n",
        "    digito_img = imagen_promedio.reshape(28,28)\n",
        "    plt.imshow(digito_img, cmap= \"gray\")\n",
        "    plt.title(\"Imagen promedio %i\" %i)\n",
        "    row = i // 5\n",
        "    col = i % 5\n",
        "    axes[row, col].imshow(digito_img, cmap=\"gray\")\n",
        "    axes[row, col].set_title(\"Imagen promedio %i\" % i)\n",
        "\n",
        "  plt.tight_layout()\n",
        "  plt.show()"
      ],
      "metadata": {
        "id": "uCPMwOo6Gc87"
      },
      "execution_count": null,
      "outputs": []
    },
    {
      "cell_type": "code",
      "source": [
        "graficar_imagenes(train_data)"
      ],
      "metadata": {
        "colab": {
          "base_uri": "https://localhost:8080/",
          "height": 413
        },
        "id": "13wT_TkNkhwb",
        "outputId": "1bf6c427-1766-4145-abee-bd4227a2b766"
      },
      "execution_count": null,
      "outputs": [
        {
          "output_type": "display_data",
          "data": {
            "text/plain": [
              "<Figure size 1000x400 with 10 Axes>"
            ],
            "image/png": "[encoded data removed]"
          },
          "metadata": {}
        }
      ]
    },
    {
      "cell_type": "code",
      "source": [
        "#2 a\n",
        "#para cada imagen del conjunto de testeo calculamos su distancia euclidea con todas las imagenes promedio y nos quedamos con la menor,\n",
        "#agregamos el indice a una lista ya que eso sera el numero que estamos predijiendo que representa esa imagen\n",
        "def distanciaEuclidea(test,x):\n",
        "  listaDePredicciones = []\n",
        "  sinNumero = test.iloc[0:x,1:785]\n",
        "  for i in range(x):\n",
        "    distancias = []\n",
        "    for j in range(10):\n",
        "      distancia_euclidea = np.linalg.norm(promedios[j] - sinNumero.iloc[i].values)\n",
        "      distancias.append(distancia_euclidea)\n",
        "    minima = distancias.index(min(distancias))\n",
        "    listaDePredicciones.append(minima)\n",
        "  return listaDePredicciones\n"
      ],
      "metadata": {
        "id": "lHawdn9BpXtW"
      },
      "execution_count": null,
      "outputs": []
    },
    {
      "cell_type": "code",
      "source": [
        "print(distanciaEuclidea(test_data,200))"
      ],
      "metadata": {
        "id": "a822RiJr-rkS",
        "colab": {
          "base_uri": "https://localhost:8080/"
        },
        "outputId": "a0592800-545c-4b30-bd35-63101f9e3c6b"
      },
      "execution_count": null,
      "outputs": [
        {
          "output_type": "stream",
          "name": "stdout",
          "text": [
            "[2, 1, 0, 4, 1, 4, 9, 2, 9, 0, 2, 9, 0, 1, 5, 4, 7, 5, 4, 9, 6, 4, 5, 4, 0, 7, 4, 0, 1, 3, 1, 3, 4, 7, 2, 7, 1, 3, 1, 1, 7, 4, 1, 5, 5, 5, 2, 4, 4, 6, 3, 5, 5, 2, 5, 4, 1, 9, 1, 7, 8, 9, 2, 7, 9, 2, 4, 3, 0, 7, 0, 2, 8, 1, 7, 3, 7, 9, 7, 9, 6, 2, 7, 4, 4, 7, 5, 6, 1, 3, 6, 9, 3, 1, 4, 5, 1, 6, 9, 4, 0, 5, 4, 4, 9, 2, 1, 9, 4, 8, 1, 5, 9, 7, 9, 9, 4, 9, 7, 3, 6, 7, 6, 7, 9, 0, 5, 8, 5, 6, 6, 5, 7, 8, 1, 0, 1, 6, 4, 6, 7, 3, 1, 7, 1, 8, 2, 0, 1, 9, 4, 5, 5, 1, 5, 6, 0, 3, 4, 4, 6, 5, 4, 4, 3, 4, 5, 1, 9, 9, 7, 3, 5, 2, 1, 1, 8, 1, 8, 1, 8, 5, 0, 3, 9, 3, 3, 0, 1, 1, 5, 0, 9, 0, 5, 1, 6, 9, 2, 3]\n"
          ]
        }
      ]
    },
    {
      "cell_type": "code",
      "source": [
        "#2.b\n",
        "#hacemos el calculo de la precision con una suma de todos los casos en los cuales la prediccion fue correcta dividida por la cantidad total de predicciones\n",
        "def precision(predicciones,test,x):\n",
        "  casosAciertos = 0\n",
        "  numero = test.iloc[0:x, 0]\n",
        "  for i in range(len(predicciones)):\n",
        "    if predicciones[i] == numero[i]:\n",
        "      casosAciertos +=1\n",
        "  precision = casosAciertos / len(predicciones)\n",
        "  return precision\n"
      ],
      "metadata": {
        "id": "untIGlD_5XQa"
      },
      "execution_count": null,
      "outputs": []
    },
    {
      "cell_type": "code",
      "source": [
        "print(precision(distanciaEuclidea(test_data,200),test_data,200))"
      ],
      "metadata": {
        "colab": {
          "base_uri": "https://localhost:8080/"
        },
        "id": "cuBC7bIGEvhC",
        "outputId": "6cac8643-6154-4422-b1d6-bfef7614ecbf"
      },
      "execution_count": null,
      "outputs": [
        {
          "output_type": "stream",
          "name": "stdout",
          "text": [
            "0.77\n"
          ]
        }
      ]
    },
    {
      "cell_type": "code",
      "source": [
        "#2 c\n",
        "#imprimimos todos los casos que no acertaron para elegir algunas de esas imagenes y graficarlas para la conclusion\n",
        "def casos_no_acertados(predicciones,test,x):\n",
        "  noAciertos = []\n",
        "  numero = test.iloc[0:x, 0]\n",
        "  for i in range(len(predicciones)):\n",
        "    if predicciones[i] != numero[i]:\n",
        "      noAciertos.append(i)\n",
        "  return noAciertos"
      ],
      "metadata": {
        "id": "WQ8PSTryE9xa"
      },
      "execution_count": null,
      "outputs": []
    },
    {
      "cell_type": "code",
      "source": [
        "print(casos_no_acertados(distanciaEuclidea(test_data,200),test_data,200))"
      ],
      "metadata": {
        "colab": {
          "base_uri": "https://localhost:8080/"
        },
        "id": "6OtICfnpF63F",
        "outputId": "73b74b96-1f4e-4a34-c9d9-d7b20a384e7f"
      },
      "execution_count": null,
      "outputs": [
        {
          "output_type": "stream",
          "name": "stdout",
          "text": [
            "[7, 10, 15, 17, 21, 37, 42, 43, 45, 53, 54, 58, 62, 64, 65, 72, 76, 79, 83, 86, 95, 96, 99, 103, 110, 111, 114, 115, 118, 119, 120, 148, 150, 163, 164, 168, 169, 171, 172, 174, 183, 185, 186, 190, 194, 197]\n"
          ]
        }
      ]
    },
    {
      "cell_type": "code",
      "source": [
        "digito = test_data.iloc[7, 0]\n",
        "digito_img = test_data.iloc[7, 1:]\n",
        "digito_img = digito_img.values.reshape(28,28)\n",
        "plt.imshow(digito_img, cmap= \"gray\")\n",
        "plt.title(\"Digito %i\" %digito)"
      ],
      "metadata": {
        "colab": {
          "base_uri": "https://localhost:8080/",
          "height": 469
        },
        "id": "sWpq8Yc1Fl0i",
        "outputId": "754eb9ad-f4a0-47ce-93c9-cd62030cac69"
      },
      "execution_count": null,
      "outputs": [
        {
          "output_type": "execute_result",
          "data": {
            "text/plain": [
              "Text(0.5, 1.0, 'Digito 5')"
            ]
          },
          "metadata": {},
          "execution_count": 29
        },
        {
          "output_type": "display_data",
          "data": {
            "text/plain": [
              "<Figure size 640x480 with 1 Axes>"
            ],
            "image/png": "[encoded data removed]"
          },
          "metadata": {}
        }
      ]
    },
    {
      "cell_type": "code",
      "source": [
        "digito = test_data.iloc[103, 0]\n",
        "digito_img = test_data.iloc[103, 1:]\n",
        "digito_img = digito_img.values.reshape(28,28)\n",
        "plt.imshow(digito_img, cmap= \"gray\")\n",
        "plt.title(\"Digito %i\" %digito)"
      ],
      "metadata": {
        "colab": {
          "base_uri": "https://localhost:8080/",
          "height": 469
        },
        "id": "amV6elmWGAzB",
        "outputId": "f0f437bc-0c74-4a56-9f44-1eef856150eb"
      },
      "execution_count": null,
      "outputs": [
        {
          "output_type": "execute_result",
          "data": {
            "text/plain": [
              "Text(0.5, 1.0, 'Digito 9')"
            ]
          },
          "metadata": {},
          "execution_count": 28
        },
        {
          "output_type": "display_data",
          "data": {
            "text/plain": [
              "<Figure size 640x480 with 1 Axes>"
            ],
            "image/png": "[encoded data removed]"
          },
          "metadata": {}
        }
      ]
    },
    {
      "cell_type": "code",
      "source": [
        "digito = test_data.iloc[64, 0]\n",
        "digito_img = test_data.iloc[64, 1:]\n",
        "digito_img = digito_img.values.reshape(28,28)\n",
        "plt.imshow(digito_img, cmap= \"gray\")\n",
        "plt.title(\"Digito %i\" %digito)"
      ],
      "metadata": {
        "colab": {
          "base_uri": "https://localhost:8080/",
          "height": 469
        },
        "id": "Jl9ht3o2GEQ5",
        "outputId": "b1898b41-3959-4df1-bbaf-f39f93f65637"
      },
      "execution_count": null,
      "outputs": [
        {
          "output_type": "execute_result",
          "data": {
            "text/plain": [
              "Text(0.5, 1.0, 'Digito 4')"
            ]
          },
          "metadata": {},
          "execution_count": 29
        },
        {
          "output_type": "display_data",
          "data": {
            "text/plain": [
              "<Figure size 640x480 with 1 Axes>"
            ],
            "image/png": "[encoded data removed]"
          },
          "metadata": {}
        }
      ]
    },
    {
      "cell_type": "markdown",
      "source": [
        "¿Considera\n",
        "buena la precision?\n",
        "\n",
        "Por lo que vemos en algunos de los casos en los que la prediccion no fue acertada, hay imagenes que a simple vista se reconoce el numero sin necesidad de saber su etiqueta, por lo que podrian haber sido contados dentro de los casos acertados, gracias a eso nosotros consideramos que la precision no es buena porque hay un gran margen de error. Si pensamos en que tenemos 1 millon de imagenes hay 230 mil que estan quedando afuera al ser una precision del 77%, y si bien es menos de la mitad, es un numero bastante grande para el proposito de este trabajo.\n"
      ],
      "metadata": {
        "id": "JJCItm_wMfKt"
      }
    },
    {
      "cell_type": "code",
      "source": [
        "#3\n",
        "#usamos el metodo de la potencia para calular el autovector asociado al autovalor de mayor valor con un metodo que usa la descomposicon svd para un solo autovector\n",
        "def svd_potencia(A):\n",
        "    epsilon = 1e-10\n",
        "    n = A.shape[0]\n",
        "    m = A.shape[1]\n",
        "    x = np.random.rand(min(n,m))\n",
        "    x /= np.linalg.norm(x)\n",
        "    vectork0 = np.zeros(min(n,m))\n",
        "    vectork1 = x\n",
        "    if (n > m):\n",
        "        B = np.transpose(A) @ A\n",
        "    else:\n",
        "        B = A @ np.transpose(A)\n",
        "    while (np.abs(vectork1 @ vectork0) < (1 - epsilon)):\n",
        "        vectork0 = vectork1\n",
        "        vectork1 = B @ vectork0\n",
        "        vectork1 /= np.linalg.norm(vectork1)\n",
        "    return vectork1\n",
        "\n",
        "#calculamos la descomposicionSVD de A usando la funcion anterior calculando vector a vector la svd\n",
        "#para el primer autovector vamos calculando sigma, v y u\n",
        "#dependiendo de si n > m o no, calcula el autovector u y el autovector v normalizados y los agrega a la lista svd\n",
        "#asi sucesivamente con todos los vectores y despues de calcular uno \"resta\" la dimension del que ya calculo\n",
        "#devuelve las matrices de autovectores izquierdos (us), los valores singulares (valoresSingulares) y las matrices de autovectores derechos (vs)\n",
        "def descomposicionSVD(A):\n",
        "    A = np.array(A, dtype=float)\n",
        "    n = A.shape[0]\n",
        "    m = A.shape[1]\n",
        "    svd = []\n",
        "    k = min(n, m)\n",
        "    for i in range (k):\n",
        "        matriz1dimension = A.copy()\n",
        "        for valorSingular, u, v in svd[:i]:\n",
        "            matriz1dimension -= valorSingular * np.outer(u, v)\n",
        "        if (n > m):\n",
        "            v = svd_potencia(matriz1dimension)\n",
        "            u_sinNormalizar = A @ v\n",
        "            sigma = np.linalg.norm(u_sinNormalizar)\n",
        "            u = u_sinNormalizar / sigma\n",
        "        else:\n",
        "            u = svd_potencia(matriz1dimension)\n",
        "            v_sinNormalizar = np.transpose(A) @ u\n",
        "            sigma = np.linalg.norm(v_sinNormalizar)\n",
        "            v = v_sinNormalizar / sigma\n",
        "        svd.append((sigma, u, v))\n",
        "    valoresSingulares, us, vs = [np.array(x) for x in zip(*svd)]\n",
        "    return np.transpose(us), valoresSingulares, vs\n"
      ],
      "metadata": {
        "id": "r_p-Oc_zUuzJ"
      },
      "execution_count": null,
      "outputs": []
    },
    {
      "cell_type": "code",
      "source": [
        "print(descomposicionSVD(np.array([[10,0,0],[0,5,0],[0,0,1]]))) #ejemplo"
      ],
      "metadata": {
        "colab": {
          "base_uri": "https://localhost:8080/"
        },
        "id": "lMv4DmxBmSp4",
        "outputId": "9f392ed5-4c26-4766-dea3-e339b35629cc"
      },
      "execution_count": null,
      "outputs": [
        {
          "output_type": "stream",
          "name": "stdout",
          "text": [
            "(array([[ 1.00000000e+00, -2.81061606e-06,  1.76043212e-13],\n",
            "       [ 2.81061606e-06,  1.00000000e+00, -6.26351080e-08],\n",
            "       [ 2.90246178e-20,  6.26351080e-08,  1.00000000e+00]]), array([10.,  5.,  1.]), array([[ 1.00000000e+00,  1.40530803e-06,  2.90246178e-21],\n",
            "       [-5.62123212e-06,  1.00000000e+00,  1.25270216e-08],\n",
            "       [ 1.76043212e-12, -3.13175540e-07,  1.00000000e+00]]))\n"
          ]
        }
      ]
    },
    {
      "cell_type": "code",
      "source": [
        "#4a\n",
        "#da la matriz correspondiente a cada dıgito de dimension 785 × cantidad imagenes del digito en las primeras x imagenes del conjunto de entrenamiento\n",
        "def matrizDe(n,train,x):\n",
        "  conjunto =[]\n",
        "  numero = train.iloc[0:x, 0]\n",
        "  for j in range(x):\n",
        "    if n == numero.iloc[j]:\n",
        "      f = train.iloc[j].values.reshape((785,1))\n",
        "      conjunto.append(f)\n",
        "  return conjunto\n",
        "\n",
        "#junta las 10 matrices en una misma funcion\n",
        "def listaDeMatrices(train,x):\n",
        "  listaDeMatrices =[]\n",
        "  for i in range(10):\n",
        "    listaDeMatrices.append(matrizDe(i,train,x))\n",
        "  return listaDeMatrices\n",
        "\n",
        "#aca las apila por columna\n",
        "def listaDeMatricesApiladas(train,x):\n",
        "  M=[]\n",
        "  for i in range (10):\n",
        "    columnas = listaDeMatrices(train,x)[i]\n",
        "    M.append(np.column_stack(columnas))\n",
        "  return M\n",
        "\n",
        "\n",
        "#obtenemos la matriz de cada digito pero sin la primer columna, de dimension 784 × cantidad imagenes de cada digito\n",
        "def imagenSinClasificacion(n,train,x):\n",
        "  conjunto =[]\n",
        "  numero = train.iloc[0:x, 0]\n",
        "  sinNumero = train.iloc[0:x, 1:785]\n",
        "  for j in range(x):\n",
        "    if n == numero.iloc[j]:\n",
        "      f = sinNumero.iloc[j].values.reshape((784,1))\n",
        "      conjunto.append(f)\n",
        "  return conjunto\n",
        "\n",
        "#armamos la lista con las matrices Mi, i=0,..,9\n",
        "def listaSinClasificacion(train,x):\n",
        "  listaDeMatricesSinDigito =[]\n",
        "  for i in range(10):\n",
        "    listaDeMatricesSinDigito.append(imagenSinClasificacion(i,train,x))\n",
        "  return listaDeMatricesSinDigito\n",
        "\n",
        "#las apilamos\n",
        "def matricesSinClasificacionApiladas(train,x):\n",
        "  M=[]\n",
        "  for i in range (10):\n",
        "    columnas = listaSinClasificacion(train,x)[i]\n",
        "    M.append(np.column_stack(columnas))\n",
        "  return M\n"
      ],
      "metadata": {
        "id": "Mtht2r5xGUq_"
      },
      "execution_count": null,
      "outputs": []
    },
    {
      "cell_type": "code",
      "source": [
        "#ejemplo de los tamaños para el digito 0\n",
        "print(len(listaDeMatricesApiladas(train_data,2000)[0]))\n",
        "print(len(listaDeMatricesApiladas(train_data,2000)[0][0]))\n",
        "print(len(listaDeMatricesApiladas(train_data,2000)))\n"
      ],
      "metadata": {
        "colab": {
          "base_uri": "https://localhost:8080/"
        },
        "id": "KYUKVX7TMKye",
        "outputId": "4db76e63-3210-4498-b390-d7dd41b24ac9"
      },
      "execution_count": null,
      "outputs": [
        {
          "output_type": "stream",
          "name": "stdout",
          "text": [
            "785\n",
            "191\n",
            "10\n"
          ]
        }
      ]
    },
    {
      "cell_type": "code",
      "source": [
        "Mi09 = matricesSinClasificacionApiladas(train_data,2000)"
      ],
      "metadata": {
        "id": "qgtP8PUn1mcK"
      },
      "execution_count": null,
      "outputs": []
    },
    {
      "cell_type": "code",
      "source": [
        "#4.b\n",
        "\n",
        "#descomposicion de todas las matrices Mi al mismo tiempo\n",
        "def descomposicionSVDDeTodasMatrices(l):\n",
        "  Ui = []\n",
        "  sigmai = []\n",
        "  Vi = []\n",
        "  for i in range(len(l)):\n",
        "    descomposicion = descomposicionSVD(l[i])\n",
        "    Ui.append(descomposicion[0])\n",
        "    sigmai.append(descomposicion[1])\n",
        "    Vi.append(descomposicion[2])\n",
        "  return Ui, sigmai, Vi"
      ],
      "metadata": {
        "id": "R230H_5bQSFf"
      },
      "execution_count": null,
      "outputs": []
    },
    {
      "cell_type": "code",
      "source": [
        "print(descomposicionSVDDeTodasMatrices(Mi09))"
      ],
      "metadata": {
        "id": "wUL7taDpM4f-",
        "colab": {
          "base_uri": "https://localhost:8080/"
        },
        "outputId": "1e2d2cb3-c018-4f03-acca-05fff8e9ceef"
      },
      "execution_count": null,
      "outputs": [
        {
          "output_type": "stream",
          "name": "stdout",
          "text": [
            "([array([[0., 0., 0., ..., 0., 0., 0.],\n",
            "       [0., 0., 0., ..., 0., 0., 0.],\n",
            "       [0., 0., 0., ..., 0., 0., 0.],\n",
            "       ...,\n",
            "       [0., 0., 0., ..., 0., 0., 0.],\n",
            "       [0., 0., 0., ..., 0., 0., 0.],\n",
            "       [0., 0., 0., ..., 0., 0., 0.]]), array([[0., 0., 0., ..., 0., 0., 0.],\n",
            "       [0., 0., 0., ..., 0., 0., 0.],\n",
            "       [0., 0., 0., ..., 0., 0., 0.],\n",
            "       ...,\n",
            "       [0., 0., 0., ..., 0., 0., 0.],\n",
            "       [0., 0., 0., ..., 0., 0., 0.],\n",
            "       [0., 0., 0., ..., 0., 0., 0.]]), array([[0., 0., 0., ..., 0., 0., 0.],\n",
            "       [0., 0., 0., ..., 0., 0., 0.],\n",
            "       [0., 0., 0., ..., 0., 0., 0.],\n",
            "       ...,\n",
            "       [0., 0., 0., ..., 0., 0., 0.],\n",
            "       [0., 0., 0., ..., 0., 0., 0.],\n",
            "       [0., 0., 0., ..., 0., 0., 0.]]), array([[0., 0., 0., ..., 0., 0., 0.],\n",
            "       [0., 0., 0., ..., 0., 0., 0.],\n",
            "       [0., 0., 0., ..., 0., 0., 0.],\n",
            "       ...,\n",
            "       [0., 0., 0., ..., 0., 0., 0.],\n",
            "       [0., 0., 0., ..., 0., 0., 0.],\n",
            "       [0., 0., 0., ..., 0., 0., 0.]]), array([[0., 0., 0., ..., 0., 0., 0.],\n",
            "       [0., 0., 0., ..., 0., 0., 0.],\n",
            "       [0., 0., 0., ..., 0., 0., 0.],\n",
            "       ...,\n",
            "       [0., 0., 0., ..., 0., 0., 0.],\n",
            "       [0., 0., 0., ..., 0., 0., 0.],\n",
            "       [0., 0., 0., ..., 0., 0., 0.]]), array([[0., 0., 0., ..., 0., 0., 0.],\n",
            "       [0., 0., 0., ..., 0., 0., 0.],\n",
            "       [0., 0., 0., ..., 0., 0., 0.],\n",
            "       ...,\n",
            "       [0., 0., 0., ..., 0., 0., 0.],\n",
            "       [0., 0., 0., ..., 0., 0., 0.],\n",
            "       [0., 0., 0., ..., 0., 0., 0.]]), array([[0., 0., 0., ..., 0., 0., 0.],\n",
            "       [0., 0., 0., ..., 0., 0., 0.],\n",
            "       [0., 0., 0., ..., 0., 0., 0.],\n",
            "       ...,\n",
            "       [0., 0., 0., ..., 0., 0., 0.],\n",
            "       [0., 0., 0., ..., 0., 0., 0.],\n",
            "       [0., 0., 0., ..., 0., 0., 0.]]), array([[0., 0., 0., ..., 0., 0., 0.],\n",
            "       [0., 0., 0., ..., 0., 0., 0.],\n",
            "       [0., 0., 0., ..., 0., 0., 0.],\n",
            "       ...,\n",
            "       [0., 0., 0., ..., 0., 0., 0.],\n",
            "       [0., 0., 0., ..., 0., 0., 0.],\n",
            "       [0., 0., 0., ..., 0., 0., 0.]]), array([[0., 0., 0., ..., 0., 0., 0.],\n",
            "       [0., 0., 0., ..., 0., 0., 0.],\n",
            "       [0., 0., 0., ..., 0., 0., 0.],\n",
            "       ...,\n",
            "       [0., 0., 0., ..., 0., 0., 0.],\n",
            "       [0., 0., 0., ..., 0., 0., 0.],\n",
            "       [0., 0., 0., ..., 0., 0., 0.]]), array([[0., 0., 0., ..., 0., 0., 0.],\n",
            "       [0., 0., 0., ..., 0., 0., 0.],\n",
            "       [0., 0., 0., ..., 0., 0., 0.],\n",
            "       ...,\n",
            "       [0., 0., 0., ..., 0., 0., 0.],\n",
            "       [0., 0., 0., ..., 0., 0., 0.],\n",
            "       [0., 0., 0., ..., 0., 0., 0.]])], [array([30913.46482707, 11367.56602275,  8471.35343722,  6219.42858689,\n",
            "        5139.44121715,  4686.2132579 ,  4485.28554654,  4063.14438555,\n",
            "        3869.16216578,  3814.25643134,  3381.80558426,  3343.8994097 ,\n",
            "        3182.2265968 ,  3080.66707205,  2855.73727593,  2800.10981447,\n",
            "        2598.39869689,  2513.23418663,  2397.63575293,  2278.81573118,\n",
            "        2257.04801199,  2124.21070208,  2043.78688493,  1996.61222777,\n",
            "        1941.44031577,  1917.68820034,  1865.07977906,  1788.57759946,\n",
            "        1750.48594149,  1717.72441288,  1677.16902907,  1630.85659581,\n",
            "        1605.75941536,  1561.44818274,  1536.28148491,  1524.05653276,\n",
            "        1439.71621962,  1391.71986035,  1369.83723789,  1328.99467259,\n",
            "        1323.96206977,  1308.64025342,  1284.44587171,  1249.89615832,\n",
            "        1219.76240557,  1209.79125316,  1200.69163448,  1190.31863998,\n",
            "        1181.29513814,  1160.84374275,  1131.95509536,  1101.74189768,\n",
            "        1092.2303014 ,  1069.33900362,  1064.4626247 ,  1047.92407094,\n",
            "        1012.98739639,  1008.58752681,   998.11222508,   991.75255168,\n",
            "         973.81879849,   966.36099926,   934.88700927,   930.1522117 ,\n",
            "         917.29262155,   907.47447388,   900.15755411,   874.41670598,\n",
            "         868.08143396,   854.11331238,   852.02307293,   841.26644037,\n",
            "         826.88417683,   826.28189943,   804.92593755,   794.6281199 ,\n",
            "         787.61775115,   782.01491418,   770.64418751,   764.99689574,\n",
            "         756.64086984,   737.22532233,   729.2473563 ,   724.014749  ,\n",
            "         714.84727983,   712.08216057,   692.54420692,   682.71246009,\n",
            "         678.36561149,   668.27053657,   662.45859777,   652.09404424,\n",
            "         648.2190617 ,   644.5098473 ,   633.49728989,   624.11039613,\n",
            "         616.20247146,   609.7283632 ,   605.05465511,   597.20933945,\n",
            "         593.9756917 ,   583.08034549,   577.86136599,   570.06992645,\n",
            "         564.27665412,   559.45284102,   545.79340764,   539.41360156,\n",
            "         535.62594588,   530.53838611,   526.64495595,   518.26957717,\n",
            "         512.04058378,   501.7386969 ,   496.73152237,   493.26231358,\n",
            "         489.42939934,   488.13563015,   474.35895185,   466.69224229,\n",
            "         458.16347863,   456.17974827,   453.95932055,   448.31257181,\n",
            "         438.54873228,   435.68098513,   433.5974708 ,   426.89767836,\n",
            "         423.41111933,   420.7799492 ,   413.00242256,   411.9647569 ,\n",
            "         408.82438823,   401.39846903,   393.52276272,   390.13802387,\n",
            "         384.93924187,   383.68724598,   374.56392535,   369.36022192,\n",
            "         368.00184676,   362.6518788 ,   360.06601609,   356.20618529,\n",
            "         354.91906492,   345.62030605,   342.6128379 ,   339.56681243,\n",
            "         330.95457875,   324.95974259,   323.7444067 ,   313.22570144,\n",
            "         309.79281386,   308.03939009,   304.47397161,   300.70060827,\n",
            "         296.53316467,   292.99439873,   290.65284292,   288.80118442,\n",
            "         287.89165377,   279.91543837,   271.57016471,   270.17800845,\n",
            "         267.92343484,   263.86500015,   261.63591518,   257.8496469 ,\n",
            "         256.74416687,   250.86511028,   246.09782111,   243.91867874,\n",
            "         235.07444568,   233.14889233,   230.24248702,   228.39127827,\n",
            "         220.00194248,   218.03493755,   208.13600398,   206.32741158,\n",
            "         203.18329492,   197.60334918,   194.1568803 ,   191.59390037,\n",
            "         190.09630458,   180.83067011,   178.56816647,   173.12688899,\n",
            "         166.98650347,   152.877834  ,   144.86187022]), array([2.17653912e+04, 1.06999108e+04, 6.24680933e+03, 3.97745470e+03,\n",
            "       3.82114596e+03, 3.56336075e+03, 3.02420368e+03, 2.76047599e+03,\n",
            "       2.48955726e+03, 2.21326049e+03, 2.14721162e+03, 2.10060861e+03,\n",
            "       1.86217608e+03, 1.80673626e+03, 1.74803123e+03, 1.71308673e+03,\n",
            "       1.64661978e+03, 1.59697435e+03, 1.49995846e+03, 1.48559126e+03,\n",
            "       1.34637951e+03, 1.33511474e+03, 1.29263923e+03, 1.26718306e+03,\n",
            "       1.22308661e+03, 1.21620940e+03, 1.13490563e+03, 1.11252979e+03,\n",
            "       1.09637362e+03, 1.07823226e+03, 1.04451446e+03, 1.00114954e+03,\n",
            "       9.85301479e+02, 9.62607523e+02, 9.34431658e+02, 8.94624596e+02,\n",
            "       8.91281953e+02, 8.82005906e+02, 8.63692370e+02, 8.50787485e+02,\n",
            "       8.35441636e+02, 8.09771563e+02, 7.94087378e+02, 7.84149589e+02,\n",
            "       7.66568736e+02, 7.58835341e+02, 7.49422228e+02, 7.26570565e+02,\n",
            "       7.11699331e+02, 6.99620477e+02, 6.93798020e+02, 6.86359014e+02,\n",
            "       6.77334855e+02, 6.65832117e+02, 6.53486500e+02, 6.32196191e+02,\n",
            "       6.23655011e+02, 6.18856332e+02, 6.02307206e+02, 5.86839391e+02,\n",
            "       5.82815043e+02, 5.80503184e+02, 5.62472270e+02, 5.54668454e+02,\n",
            "       5.46868314e+02, 5.39133350e+02, 5.31497651e+02, 5.24308854e+02,\n",
            "       5.10272004e+02, 5.04464724e+02, 4.94143014e+02, 4.91137855e+02,\n",
            "       4.74803092e+02, 4.72320128e+02, 4.69175145e+02, 4.61347543e+02,\n",
            "       4.53547325e+02, 4.45071507e+02, 4.41563623e+02, 4.32177892e+02,\n",
            "       4.28584016e+02, 4.20453792e+02, 4.17264086e+02, 4.06048706e+02,\n",
            "       4.00924060e+02, 3.97561779e+02, 3.86666548e+02, 3.80883471e+02,\n",
            "       3.77131649e+02, 3.72547004e+02, 3.65818879e+02, 3.58750411e+02,\n",
            "       3.52927830e+02, 3.49903610e+02, 3.46590225e+02, 3.38440474e+02,\n",
            "       3.31911962e+02, 3.28722431e+02, 3.26419700e+02, 3.20336127e+02,\n",
            "       3.18055654e+02, 3.13110046e+02, 3.04520873e+02, 3.00455194e+02,\n",
            "       2.95210662e+02, 2.91577195e+02, 2.90767119e+02, 2.87921862e+02,\n",
            "       2.87087913e+02, 2.78593073e+02, 2.73980107e+02, 2.71546099e+02,\n",
            "       2.67955041e+02, 2.64436241e+02, 2.60371873e+02, 2.57505219e+02,\n",
            "       2.55348835e+02, 2.48032413e+02, 2.45825759e+02, 2.41282230e+02,\n",
            "       2.35707245e+02, 2.33972451e+02, 2.29652070e+02, 2.28732494e+02,\n",
            "       2.22007592e+02, 2.19706881e+02, 2.14950200e+02, 2.11012660e+02,\n",
            "       2.08232448e+02, 2.05207158e+02, 2.02696820e+02, 2.00166281e+02,\n",
            "       1.99478641e+02, 1.96603699e+02, 1.91883439e+02, 1.91280006e+02,\n",
            "       1.89029365e+02, 1.85176987e+02, 1.82552544e+02, 1.76841749e+02,\n",
            "       1.74843118e+02, 1.72326289e+02, 1.65502593e+02, 1.62818084e+02,\n",
            "       1.60601597e+02, 1.59387978e+02, 1.54436788e+02, 1.50495197e+02,\n",
            "       1.47529810e+02, 1.44800849e+02, 1.40642243e+02, 1.40236156e+02,\n",
            "       1.38231613e+02, 1.36366247e+02, 1.33126402e+02, 1.30476199e+02,\n",
            "       1.25400163e+02, 1.23294299e+02, 1.21025318e+02, 1.19855771e+02,\n",
            "       1.18709617e+02, 1.12912338e+02, 1.10969328e+02, 1.07808717e+02,\n",
            "       1.06378508e+02, 1.04984722e+02, 1.02276976e+02, 1.00250505e+02,\n",
            "       9.67103312e+01, 9.65567366e+01, 9.50000729e+01, 9.14515099e+01,\n",
            "       8.82619712e+01, 8.67305090e+01, 8.43212897e+01, 8.09339127e+01,\n",
            "       7.97135310e+01, 7.71685009e+01, 7.35367481e+01, 7.24192462e+01,\n",
            "       6.83788136e+01, 6.75098004e+01, 6.50639309e+01, 6.43599514e+01,\n",
            "       6.36850672e+01, 6.15895945e+01, 6.01633562e+01, 5.73612704e+01,\n",
            "       5.57412309e+01, 5.48632033e+01, 5.30233799e+01, 5.11798711e+01,\n",
            "       4.86799391e+01, 4.71245885e+01, 4.48783429e+01, 4.34329433e+01,\n",
            "       4.16218853e+01, 3.85796484e+01, 3.69424406e+01, 3.64342060e+01,\n",
            "       3.29258686e+01, 3.02662686e+01, 2.92020158e+01, 2.70827524e+01,\n",
            "       2.59102701e+01, 2.49227913e+01, 2.42332249e+01, 2.19441017e+01,\n",
            "       2.13814385e+01, 1.98483848e+01, 1.94174244e+01, 1.84962332e+01,\n",
            "       1.64394852e+01, 1.50153137e+01, 1.47976905e+01, 1.32487592e+01,\n",
            "       1.22059332e+01, 1.14612810e+01, 9.15866499e+00, 7.18054892e+00]), array([25578.08896238,  9870.45840739,  7814.31604423,  6072.57621033,\n",
            "        5360.1224333 ,  5254.77605472,  5056.84868801,  4860.91739466,\n",
            "        4226.07615505,  3928.63192985,  3728.39658648,  3681.76929353,\n",
            "        3468.47413906,  3120.04004479,  3080.70834253,  3034.45186983,\n",
            "        2878.16167729,  2793.18448572,  2769.72193385,  2647.75471832,\n",
            "        2620.55118893,  2592.42699384,  2484.63349175,  2424.22969885,\n",
            "        2395.13769797,  2323.43826506,  2276.31684482,  2225.37468364,\n",
            "        2119.6796415 ,  2092.65050886,  2023.93366765,  1973.74048719,\n",
            "        1950.80843212,  1891.52164819,  1831.51061809,  1785.6701626 ,\n",
            "        1766.82772128,  1744.58961799,  1700.64493568,  1665.22398827,\n",
            "        1634.03437716,  1602.70855744,  1547.56933748,  1534.65062459,\n",
            "        1507.07122122,  1486.66356853,  1449.29923775,  1428.171362  ,\n",
            "        1392.67199462,  1368.07448944,  1355.40203023,  1328.75252895,\n",
            "        1310.41772516,  1297.95045443,  1268.95835045,  1260.8009405 ,\n",
            "        1251.55214908,  1211.36383147,  1187.8718189 ,  1176.96746309,\n",
            "        1162.5611807 ,  1147.44881898,  1140.50351263,  1126.36027167,\n",
            "        1098.09926435,  1089.68661156,  1070.22392313,  1054.81486923,\n",
            "        1043.38076324,  1030.41213772,  1006.69403967,  1004.62897184,\n",
            "         997.04946892,   977.5064454 ,   957.77034904,   950.21382595,\n",
            "         940.92199972,   915.44033574,   913.22868199,   897.20443066,\n",
            "         889.27923931,   880.08497859,   871.55113987,   859.07387085,\n",
            "         856.00620848,   848.71241748,   832.14708137,   822.35027703,\n",
            "         811.21970667,   802.34419606,   794.80879735,   783.10417555,\n",
            "         766.39286362,   759.42483168,   757.63760896,   747.25643229,\n",
            "         745.17078778,   739.34036472,   729.73774646,   718.78286385,\n",
            "         708.00588653,   702.00914545,   690.9448836 ,   680.84536227,\n",
            "         679.88483776,   671.88408292,   664.04629542,   656.88758451,\n",
            "         641.91000762,   639.41300778,   631.69533719,   624.29000397,\n",
            "         620.40797298,   616.79682258,   603.98932124,   596.86225715,\n",
            "         592.08116388,   585.90949666,   581.76105766,   579.2409841 ,\n",
            "         570.76198861,   565.83686143,   564.93371057,   555.17255253,\n",
            "         550.09876487,   544.71488589,   538.58221248,   533.88701209,\n",
            "         530.6250024 ,   526.50787278,   518.06506014,   515.23659113,\n",
            "         512.34971176,   503.3295568 ,   495.48351638,   487.09107362,\n",
            "         486.55343328,   476.24754643,   471.27879326,   468.06899223,\n",
            "         460.41042769,   450.61379727,   448.64418822,   442.86288639,\n",
            "         440.32524371,   436.62424099,   425.31289617,   418.65864313,\n",
            "         414.11258494,   411.56991235,   402.43640564,   396.63204444,\n",
            "         394.50891657,   390.76287883,   388.34327256,   388.05316734,\n",
            "         379.27086734,   373.23590449,   368.01274493,   360.46086601,\n",
            "         358.94908433,   354.23311077,   350.18786815,   343.30579194,\n",
            "         339.59305707,   335.89827909,   330.89977585,   327.21375549,\n",
            "         323.60650447,   319.93550023,   312.88079566,   309.82384195,\n",
            "         304.43578897,   302.78944849,   300.19704594,   296.24567978,\n",
            "         290.81223088,   288.0886346 ,   282.50272148,   279.90423032,\n",
            "         274.73680343,   266.34162295,   261.57839033,   258.47757648,\n",
            "         255.11837612,   252.89976264,   247.4940874 ,   241.27966898,\n",
            "         235.60663346,   232.25984536,   225.17282228,   222.56874137,\n",
            "         217.18113791,   210.84843768,   205.32360163,   194.20286876,\n",
            "         192.64897917,   183.04062253]), array([26245.56905278,  8910.27151537,  7121.46319737,  5871.94582321,\n",
            "        5599.85873516,  4832.81579328,  4476.21407859,  4011.29058621,\n",
            "        3790.84897495,  3636.36652723,  3539.92260763,  3359.01442559,\n",
            "        3228.24881378,  3079.43532413,  2987.3903457 ,  2924.86126268,\n",
            "        2661.39321428,  2623.66377167,  2544.55711743,  2423.50437371,\n",
            "        2398.42586162,  2388.1572232 ,  2252.74531472,  2172.82363378,\n",
            "        2141.22454853,  2101.44623737,  2027.92247083,  1925.53565276,\n",
            "        1895.80425956,  1881.79180026,  1843.00926778,  1821.86496393,\n",
            "        1784.02159947,  1711.88081917,  1698.63928856,  1610.31314021,\n",
            "        1587.91887378,  1536.43746628,  1520.72013105,  1506.10592447,\n",
            "        1466.63612076,  1456.31263938,  1426.13025364,  1397.02212964,\n",
            "        1370.63771914,  1362.64162556,  1349.51980061,  1312.30965987,\n",
            "        1307.8038276 ,  1271.66176022,  1257.73431269,  1240.41199705,\n",
            "        1219.71600864,  1182.97603039,  1166.42682001,  1145.29586476,\n",
            "        1127.6925052 ,  1118.58021468,  1114.86067658,  1079.37184095,\n",
            "        1071.80229695,  1061.1822104 ,  1036.02920166,  1023.16211427,\n",
            "         995.27609301,   989.16347886,   972.98912243,   956.13809482,\n",
            "         945.42969252,   927.95734477,   919.48011283,   906.50402513,\n",
            "         891.85271596,   879.64836268,   869.75526043,   865.85814667,\n",
            "         857.43881737,   836.38233504,   828.3420935 ,   814.85470522,\n",
            "         797.79111314,   791.02060056,   777.64506866,   770.10321015,\n",
            "         765.72275118,   751.37571198,   746.36350845,   737.21032009,\n",
            "         734.17477527,   724.67372499,   712.65395156,   709.38982216,\n",
            "         699.05810619,   691.25756288,   684.80599863,   681.07930347,\n",
            "         672.35434409,   662.80640133,   655.99225942,   647.39120243,\n",
            "         644.03730603,   633.48270256,   623.62037975,   607.41472804,\n",
            "         600.07106667,   591.55662076,   587.50558177,   585.72863476,\n",
            "         580.57582288,   574.90272091,   570.51743812,   552.58296095,\n",
            "         551.11850201,   550.62210995,   545.5281914 ,   538.19949866,\n",
            "         532.58292681,   523.86549584,   516.07225057,   510.92392526,\n",
            "         504.02272705,   501.06700045,   491.48332926,   481.14975077,\n",
            "         474.70094033,   471.33502595,   468.67900131,   463.59369937,\n",
            "         455.7815115 ,   450.52928364,   448.89145612,   443.40985002,\n",
            "         438.98565356,   427.47652858,   426.06201114,   424.99582089,\n",
            "         420.68333355,   413.64872704,   408.87326524,   400.84402983,\n",
            "         397.47371689,   391.32309318,   386.04265678,   382.28619349,\n",
            "         378.99526668,   373.19250483,   372.27968565,   362.9895399 ,\n",
            "         356.97060165,   351.41000299,   348.78351754,   345.0334629 ,\n",
            "         340.6985795 ,   337.72697394,   333.65907784,   325.44100673,\n",
            "         319.67339152,   310.34583821,   308.93834016,   305.57137867,\n",
            "         303.76844292,   298.40982153,   296.61591236,   287.82095046,\n",
            "         286.77005228,   285.94099842,   278.20029577,   275.59214378,\n",
            "         272.39778054,   266.15464836,   265.48187041,   256.58704728,\n",
            "         250.08606331,   248.53512554,   241.75152952,   238.91733536,\n",
            "         231.45965299,   227.05728365,   226.178574  ,   217.13701565,\n",
            "         211.78378866,   208.66797773,   205.74817658,   198.75406798,\n",
            "         193.91899616,   190.0330221 ,   181.57578515,   178.78874205,\n",
            "         175.30575027,   168.51944791,   149.61659759]), array([24054.60159939,  7983.26548997,  7111.37885844,  6371.80504775,\n",
            "        5584.74631793,  5200.97041031,  4995.23144074,  4341.0705995 ,\n",
            "        4143.44440181,  3897.15243225,  3839.40420713,  3383.49027313,\n",
            "        3192.45193648,  3090.86437439,  2904.81561137,  2827.93066893,\n",
            "        2741.5866509 ,  2676.42415265,  2587.39469729,  2396.27548931,\n",
            "        2393.13140584,  2349.08444155,  2246.08600051,  2182.11212636,\n",
            "        2083.71134887,  2061.82174896,  2047.74348984,  2001.83727729,\n",
            "        1950.42248556,  1918.25753082,  1820.7671209 ,  1780.50215835,\n",
            "        1737.45755868,  1700.27102768,  1654.85830112,  1628.40104235,\n",
            "        1591.06404356,  1562.92877265,  1543.0770552 ,  1530.81908578,\n",
            "        1516.14973143,  1501.10194486,  1437.62655671,  1421.21397809,\n",
            "        1377.83136591,  1354.47074553,  1340.13206543,  1294.46909837,\n",
            "        1283.90219329,  1271.12504473,  1258.80932628,  1225.21567563,\n",
            "        1213.16563238,  1180.44214272,  1159.18024785,  1142.19584035,\n",
            "        1115.42409991,  1109.21133914,  1090.65049411,  1077.53361496,\n",
            "        1066.0214698 ,  1049.18843711,  1025.26408347,  1023.10068169,\n",
            "        1000.17479875,   987.38623465,   962.9940666 ,   961.31618229,\n",
            "         947.20707167,   936.15054384,   926.62633103,   915.99792875,\n",
            "         912.87198641,   908.43823522,   888.89071935,   870.0352568 ,\n",
            "         864.25779353,   838.13813975,   833.54752945,   824.21359174,\n",
            "         812.49488498,   806.3567127 ,   799.21432419,   785.87506728,\n",
            "         767.51571926,   763.05830651,   760.87507221,   757.79235303,\n",
            "         749.14383163,   728.77643895,   721.59820294,   714.943758  ,\n",
            "         706.16021605,   698.56014077,   695.38368181,   681.77486145,\n",
            "         677.78973151,   662.42200112,   655.47386567,   655.11062186,\n",
            "         652.31821874,   639.61763554,   638.7499955 ,   625.24308927,\n",
            "         617.11313991,   613.36297339,   603.62805116,   595.17482217,\n",
            "         587.78770846,   579.89056114,   577.44981644,   570.94798633,\n",
            "         567.06265059,   561.67243706,   560.08810778,   551.55510771,\n",
            "         549.6572662 ,   541.57787612,   534.29396435,   524.4394235 ,\n",
            "         516.58793002,   510.58506208,   507.22103508,   506.10955007,\n",
            "         499.62519692,   497.10936427,   490.19126976,   480.3311127 ,\n",
            "         473.44134972,   469.70816635,   463.42636875,   457.97715042,\n",
            "         453.06849798,   449.81888096,   445.84068643,   441.21496755,\n",
            "         438.8133481 ,   433.52699667,   430.39095412,   422.67760081,\n",
            "         416.64318589,   412.58778605,   406.56027598,   403.85156034,\n",
            "         401.14031419,   391.60672223,   386.67595413,   384.54731004,\n",
            "         383.76378117,   376.17981087,   370.60495027,   365.08878546,\n",
            "         362.60523046,   360.30424688,   358.43263002,   351.03099099,\n",
            "         343.84854792,   341.07273795,   335.85004301,   333.82036663,\n",
            "         327.85407781,   325.19501221,   322.55859746,   319.73075585,\n",
            "         317.93330268,   309.22455056,   307.79556215,   301.47400687,\n",
            "         298.60241111,   293.85239333,   290.1397614 ,   288.10094007,\n",
            "         286.62397402,   285.75272367,   279.3054869 ,   273.85329958,\n",
            "         267.79312646,   266.198905  ,   261.25262778,   260.10466757,\n",
            "         254.22394696,   248.43805102,   244.55234809,   242.61699854,\n",
            "         240.12800937,   232.96266953,   229.16982627,   222.97950657,\n",
            "         220.94456834,   217.95239242,   212.10161734,   208.90169342,\n",
            "         205.94340556,   203.68707231,   197.98441539,   197.08315667,\n",
            "         195.50823702,   191.82260274,   185.7259989 ,   179.9939579 ,\n",
            "         178.36667248,   176.42279525,   169.53637154,   166.51250222,\n",
            "         162.68217751,   160.68603308,   154.42337258,   152.81419264,\n",
            "         148.89829835,   143.80075371,   137.42653952,   135.25443195,\n",
            "         130.77347927,   123.59477938]), array([21902.85054746,  9981.02201631,  6831.24251551,  6151.88134996,\n",
            "        5039.61041333,  4888.08144899,  4185.37221277,  3908.92859607,\n",
            "        3703.69859362,  3667.51561293,  3414.43010635,  3320.52100106,\n",
            "        3110.32784046,  2930.48876587,  2793.89097431,  2730.93948207,\n",
            "        2563.00267527,  2526.87268864,  2444.21334561,  2410.03153841,\n",
            "        2386.96952679,  2239.80290989,  2175.22834925,  2146.93330658,\n",
            "        2041.13415519,  2013.58997697,  1912.53689492,  1892.61874038,\n",
            "        1846.80167523,  1807.4226647 ,  1790.89646366,  1754.20115769,\n",
            "        1694.20060704,  1674.49167935,  1619.25495084,  1576.41455743,\n",
            "        1570.64415038,  1549.34306067,  1533.22792904,  1484.57110644,\n",
            "        1473.48142833,  1432.97168377,  1388.59951858,  1366.11709853,\n",
            "        1337.05239832,  1321.0217841 ,  1312.92485971,  1270.79809415,\n",
            "        1227.4098149 ,  1225.00250089,  1220.87408557,  1190.88442297,\n",
            "        1165.50502738,  1147.77542292,  1126.24403868,  1105.31190245,\n",
            "        1097.34893449,  1073.23705043,  1060.55872215,  1041.58855965,\n",
            "        1015.83001159,  1005.04674631,   990.13443461,   973.60751017,\n",
            "         948.52155369,   941.46113662,   934.19225995,   921.21301133,\n",
            "         904.12302912,   885.24033309,   880.23847664,   864.69170539,\n",
            "         856.74632353,   849.48811   ,   832.52434309,   825.83116854,\n",
            "         821.56080235,   801.74703424,   787.34727606,   771.14767718,\n",
            "         768.01103857,   760.525214  ,   747.91135163,   741.73422576,\n",
            "         720.59729895,   718.21674835,   711.36392807,   706.17886344,\n",
            "         692.87888354,   685.54360027,   676.87115951,   666.74293311,\n",
            "         665.1929522 ,   648.07861646,   641.51457994,   635.3708982 ,\n",
            "         632.6429695 ,   624.83461027,   609.88755318,   599.0025055 ,\n",
            "         586.29884771,   579.23742339,   569.85253188,   565.34033162,\n",
            "         561.65687383,   546.17392407,   544.01286809,   541.53040516,\n",
            "         532.82571799,   526.86462625,   525.27997248,   521.34120442,\n",
            "         514.31040982,   501.34007606,   495.32426605,   491.0165096 ,\n",
            "         487.35015878,   477.94171278,   470.03105831,   464.63510854,\n",
            "         462.92820072,   446.37734846,   444.27061503,   442.72427984,\n",
            "         436.52236852,   430.73914921,   422.04672697,   419.77707038,\n",
            "         412.74633175,   408.47520035,   404.34254921,   397.98938102,\n",
            "         389.95701377,   381.52181994,   376.26725572,   374.8139363 ,\n",
            "         370.69430783,   367.36000422,   362.29945638,   351.55802462,\n",
            "         349.59935006,   341.11837285,   337.13402784,   335.47472441,\n",
            "         335.0323634 ,   331.08863645,   324.22908565,   322.32542707,\n",
            "         318.40103743,   314.73136869,   307.82186883,   301.22209642,\n",
            "         290.06664817,   287.078706  ,   285.11780787,   277.39432812,\n",
            "         271.98912911,   266.61288525,   265.53006649,   260.00462425,\n",
            "         251.94879043,   248.03999316,   246.40236866,   240.13215941,\n",
            "         230.3551295 ,   226.63650225,   226.25293844,   220.21135783,\n",
            "         212.05445621,   210.41090639,   205.90049159,   203.68033047,\n",
            "         197.13978209,   194.13274611,   191.52314406,   184.65365323,\n",
            "         173.79652947,   170.3137112 ,   165.30112852,   150.08465869]), array([26667.14544287,  8931.47316611,  6785.67921701,  6459.56373605,\n",
            "        5119.2412646 ,  4806.67122918,  4087.35385177,  3865.65434259,\n",
            "        3716.55469088,  3480.47057354,  3292.39399667,  3024.7364666 ,\n",
            "        2945.95851196,  2789.59202797,  2731.44284393,  2592.11380119,\n",
            "        2539.01729317,  2515.40836629,  2402.33464818,  2279.31083765,\n",
            "        2146.21390592,  2060.78225039,  2000.5490818 ,  1918.68222604,\n",
            "        1895.27886596,  1865.3720339 ,  1772.47354269,  1738.83129551,\n",
            "        1711.67336742,  1652.88828202,  1639.47264639,  1590.52997406,\n",
            "        1561.69477211,  1526.41939529,  1476.6518435 ,  1451.4075573 ,\n",
            "        1412.9169392 ,  1394.33737626,  1378.68509893,  1339.63038806,\n",
            "        1301.22346975,  1290.45501684,  1245.15418531,  1227.32326814,\n",
            "        1217.42678211,  1184.17260608,  1169.80049895,  1149.51298097,\n",
            "        1139.25134013,  1107.86641347,  1096.1616423 ,  1057.95847862,\n",
            "        1038.25230267,  1025.45275362,  1010.31791268,   999.0499443 ,\n",
            "         981.01996141,   967.85687374,   950.91830419,   927.19309469,\n",
            "         924.58697036,   906.62115144,   876.4314865 ,   867.39256972,\n",
            "         854.06514742,   840.97166144,   823.79827989,   814.89744324,\n",
            "         802.71516704,   796.04811466,   778.25696848,   767.52913548,\n",
            "         761.65080095,   738.27236166,   737.6189048 ,   722.44820584,\n",
            "         714.0139709 ,   707.60893511,   696.27963727,   689.35880616,\n",
            "         678.46140468,   662.50226532,   658.1070427 ,   647.84330581,\n",
            "         643.73707632,   629.48028037,   621.70506794,   618.46189085,\n",
            "         613.84507518,   604.94980547,   597.95665567,   585.51237545,\n",
            "         580.26192157,   571.35897311,   558.70710791,   551.20222923,\n",
            "         545.68396807,   545.01743698,   534.45154396,   526.87460146,\n",
            "         524.48301743,   507.75195643,   502.6785793 ,   500.01711534,\n",
            "         494.06877296,   490.79448629,   488.54436966,   476.68437352,\n",
            "         468.72975359,   459.05085006,   454.12105569,   451.62537604,\n",
            "         442.6542653 ,   433.98331504,   431.29867822,   421.2577026 ,\n",
            "         418.09722528,   416.8500488 ,   412.83844984,   406.41778775,\n",
            "         396.14762229,   392.81017335,   385.90920498,   384.55611614,\n",
            "         379.90885518,   376.79576432,   373.15239704,   369.70872031,\n",
            "         361.37742624,   359.42672933,   353.52233185,   350.73999884,\n",
            "         344.72603267,   338.36759671,   336.89513044,   331.62874405,\n",
            "         328.90209567,   325.76922164,   320.11683522,   311.65971328,\n",
            "         309.14673078,   305.23539901,   301.06996176,   295.90548441,\n",
            "         292.5857758 ,   287.58331731,   284.16140196,   283.69661526,\n",
            "         277.98177226,   274.88297575,   267.89374724,   265.2410292 ,\n",
            "         261.51379318,   256.24280632,   255.66466817,   252.23398396,\n",
            "         248.30403299,   245.28259449,   241.22323521,   235.55842239,\n",
            "         228.97501352,   228.34420232,   225.4517909 ,   222.03459612,\n",
            "         215.54278875,   213.81497368,   212.37971093,   208.12531774,\n",
            "         207.13115549,   203.01092274,   199.12221016,   193.57328633,\n",
            "         190.12642208,   187.81207226,   183.8869255 ,   179.9065683 ,\n",
            "         179.17870876,   176.33988891,   172.25290766,   171.10092743,\n",
            "         159.49454431,   156.50610547,   155.17387226,   153.57960667,\n",
            "         149.94405813,   149.00153889,   144.36985177,   139.49338752,\n",
            "         138.17654033,   128.92242286,   124.34652215,   122.21558118,\n",
            "         118.79743716,   116.96920148,   113.58097592,   110.77475857,\n",
            "         104.26215144,   100.02798762,    96.99280793,    89.41900365]), array([25377.75548051,  8960.0207557 ,  8260.75544811,  6275.16063786,\n",
            "        5242.90565973,  4990.85147071,  4020.14664861,  3914.58867863,\n",
            "        3651.33719742,  3553.67368218,  3376.30630454,  3050.33354347,\n",
            "        2988.14441719,  2830.72410291,  2731.64778128,  2670.3528921 ,\n",
            "        2540.56634403,  2437.27121312,  2341.95478439,  2262.02241394,\n",
            "        2210.91321052,  2195.28642884,  2089.26601202,  2012.04325577,\n",
            "        1951.91569182,  1899.06318123,  1845.98541046,  1780.27883708,\n",
            "        1729.75427497,  1642.41337403,  1617.24734876,  1574.84100369,\n",
            "        1549.67941961,  1530.47887548,  1483.15816496,  1444.97804929,\n",
            "        1408.64918657,  1384.95659754,  1361.20683174,  1325.26934531,\n",
            "        1310.09872292,  1293.23125964,  1249.88889791,  1202.50017057,\n",
            "        1177.32824616,  1164.8013398 ,  1159.65511076,  1136.80126592,\n",
            "        1131.03809241,  1126.5537916 ,  1099.38043989,  1074.84975967,\n",
            "        1063.5925339 ,  1020.82294331,  1011.56884228,  1005.6073887 ,\n",
            "         988.81376553,   968.7802687 ,   964.06937847,   934.42371998,\n",
            "         919.84419785,   916.8779277 ,   908.26021518,   899.55814137,\n",
            "         892.15882093,   872.27992353,   868.26698958,   847.05038037,\n",
            "         845.02721102,   831.02331804,   825.17701189,   806.55110781,\n",
            "         785.09270037,   778.31430794,   758.59580088,   756.49240822,\n",
            "         744.01473276,   738.30686497,   736.65623804,   728.96122892,\n",
            "         716.263446  ,   710.57218254,   705.89819995,   696.80820514,\n",
            "         694.79423164,   683.47728508,   671.28588273,   657.56714095,\n",
            "         643.68482134,   632.80149051,   629.99555957,   622.17136446,\n",
            "         618.51493272,   605.48294992,   602.07928844,   597.34530378,\n",
            "         593.48597902,   592.62068489,   579.9770543 ,   572.55715771,\n",
            "         571.22985689,   569.32904966,   564.16507616,   543.62642063,\n",
            "         542.05694158,   536.30393861,   533.47249461,   522.16195422,\n",
            "         511.74093987,   510.314472  ,   507.46332121,   502.64281936,\n",
            "         497.54289569,   494.98789278,   488.13206629,   486.4910889 ,\n",
            "         478.13316386,   475.88983858,   472.05854062,   467.20841278,\n",
            "         460.63731568,   454.90926306,   444.67326096,   440.6537627 ,\n",
            "         438.532969  ,   432.2653054 ,   425.54711774,   421.10703131,\n",
            "         419.58472418,   417.4024543 ,   409.50638607,   405.55978712,\n",
            "         402.89462703,   400.00984068,   395.1569746 ,   388.93432038,\n",
            "         385.02777123,   380.6797594 ,   377.8366874 ,   374.09413619,\n",
            "         370.17042652,   359.64413984,   358.06624087,   355.82247893,\n",
            "         353.2647501 ,   346.78336034,   346.08948998,   340.87017551,\n",
            "         334.69010618,   330.1653421 ,   326.58056334,   325.31452387,\n",
            "         322.02277001,   319.06728168,   314.66963838,   309.71629444,\n",
            "         303.77517706,   301.39483948,   298.70594141,   295.10185836,\n",
            "         288.21364922,   285.8671623 ,   282.99586224,   280.0639758 ,\n",
            "         276.58916079,   271.97561146,   269.22688382,   265.8419607 ,\n",
            "         262.06177705,   259.42799468,   252.63741207,   251.80086012,\n",
            "         244.45046513,   241.7078359 ,   241.22113891,   234.54762866,\n",
            "         233.44552086,   229.05232195,   227.89600058,   223.40664525,\n",
            "         219.55506717,   216.36018074,   215.73433941,   211.37636932,\n",
            "         208.55165751,   205.4464374 ,   200.36949305,   198.26486507,\n",
            "         197.13223773,   194.40530269,   192.31822618,   188.48070388,\n",
            "         186.50341447,   185.42869213,   181.27047292,   176.44201251,\n",
            "         175.11942503,   172.02842806,   168.48412464,   167.3557803 ,\n",
            "         161.29277649,   153.36416361,   152.37507855,   149.34815378,\n",
            "         147.26910721,   142.99273317,   142.75856015,   137.33383519,\n",
            "         134.95614905,   133.42781599,   131.48748438,   127.12205882,\n",
            "         125.54526058,   121.72357709,   116.19879595,   111.37926288,\n",
            "         109.65360436,   107.53843348,   103.61544138,   100.46911981,\n",
            "          94.03748028,    90.30337691,    89.76731493,    85.09861744]), array([26087.41480828,  8489.91541641,  5598.14310547,  5125.79124646,\n",
            "        4658.38946428,  4254.11259266,  4071.50620224,  3733.65117301,\n",
            "        3674.46678919,  3372.45958733,  3288.25641466,  3103.90992008,\n",
            "        3019.71717293,  2933.45663732,  2736.88519198,  2713.87661439,\n",
            "        2643.05322487,  2498.95143655,  2439.04386445,  2355.86837593,\n",
            "        2320.89538546,  2225.58034464,  2128.2897034 ,  2067.01726722,\n",
            "        2057.17169376,  1996.10786704,  1981.14321884,  1941.98986298,\n",
            "        1929.8080889 ,  1829.16480107,  1797.95609452,  1778.50868655,\n",
            "        1731.51182684,  1670.69041614,  1596.09526878,  1571.5750117 ,\n",
            "        1569.68280915,  1493.62630295,  1473.84322273,  1437.97817815,\n",
            "        1419.6121246 ,  1393.4833371 ,  1383.96156292,  1373.74925584,\n",
            "        1337.89614088,  1311.07992656,  1273.63905985,  1240.02719794,\n",
            "        1208.85471697,  1204.70421956,  1179.57625372,  1175.73787648,\n",
            "        1163.79356566,  1136.86253572,  1114.92229104,  1097.80008136,\n",
            "        1086.85140078,  1063.49092784,  1040.34394836,  1018.68985793,\n",
            "        1010.63719711,   992.41899704,   962.9772838 ,   949.52210417,\n",
            "         928.17273551,   924.83583855,   908.66128973,   893.67239167,\n",
            "         883.48904044,   873.42631035,   857.97168335,   853.89692228,\n",
            "         826.96884592,   816.16222309,   811.79120065,   802.16573799,\n",
            "         789.17236014,   774.1523355 ,   771.27589147,   768.44485507,\n",
            "         747.06909372,   729.25889607,   724.50205566,   708.10031837,\n",
            "         701.32603795,   697.60346092,   683.97014521,   679.27809555,\n",
            "         670.72508749,   657.13280971,   644.84354723,   640.3503322 ,\n",
            "         635.28005513,   629.53100519,   624.53731816,   610.53912621,\n",
            "         607.53282511,   595.14851555,   580.23406525,   575.25131372,\n",
            "         570.78070142,   554.04342406,   551.5384859 ,   535.82461696,\n",
            "         530.71473662,   529.52940717,   524.66673742,   520.01551446,\n",
            "         512.96057254,   503.55671543,   499.05122769,   493.74231742,\n",
            "         485.10291884,   483.93447545,   472.97737681,   457.82604708,\n",
            "         457.54995021,   453.71457198,   450.17430774,   439.79175102,\n",
            "         432.27095184,   426.01427137,   420.92964225,   418.97372579,\n",
            "         406.7443181 ,   397.11747222,   395.2105318 ,   389.63973989,\n",
            "         385.73523879,   377.87412268,   375.25380323,   370.66564328,\n",
            "         368.95079992,   363.00720171,   353.6803595 ,   346.31926947,\n",
            "         340.8377786 ,   339.14445937,   329.93404037,   325.42905944,\n",
            "         324.61419082,   318.24395612,   314.4113523 ,   311.24913839,\n",
            "         301.90089618,   299.43507874,   292.40286578,   283.81630734,\n",
            "         281.48723442,   277.46281807,   274.14858157,   265.90029299,\n",
            "         264.59091876,   254.30479641,   252.67445342,   250.6130939 ,\n",
            "         242.82081157,   238.19410313,   232.6770261 ,   224.47091623,\n",
            "         217.74688295,   211.95137635,   207.49151414,   204.45918484,\n",
            "         197.38779298,   188.76782372,   182.99181202,   176.08589458,\n",
            "         170.98367676,   163.29787137,   154.70530169,   149.36174066]), array([24858.37505972,  9316.74663394,  6409.55418799,  6252.73059256,\n",
            "        5122.4442988 ,  4561.49366345,  4209.1188874 ,  4116.05671184,\n",
            "        3804.2750465 ,  3617.87153253,  3457.99667853,  3224.75650328,\n",
            "        3162.98385578,  2927.51626703,  2917.76709971,  2852.41756047,\n",
            "        2559.16816133,  2473.36580612,  2394.68161618,  2333.52811207,\n",
            "        2211.71391714,  2162.87683804,  2107.75080082,  2067.8648645 ,\n",
            "        2005.40092769,  1920.20618721,  1815.35591062,  1793.98843291,\n",
            "        1767.93269589,  1731.87107163,  1683.308287  ,  1642.33491262,\n",
            "        1601.34415034,  1574.12908516,  1536.25217623,  1505.47224628,\n",
            "        1481.916067  ,  1445.53842543,  1356.41250601,  1330.59846558,\n",
            "        1318.32026178,  1296.18592376,  1238.60953503,  1224.73891572,\n",
            "        1215.62858145,  1187.512209  ,  1166.99971708,  1158.8484876 ,\n",
            "        1138.87532663,  1118.32974715,  1098.12681353,  1092.69563965,\n",
            "        1061.1855175 ,  1053.42857675,  1034.28685691,  1007.38019224,\n",
            "         994.90209766,   979.23584478,   954.72963322,   939.98214506,\n",
            "         933.80613578,   914.33060534,   908.206961  ,   886.88480396,\n",
            "         859.87860979,   844.27693632,   839.58528768,   816.37406425,\n",
            "         805.64577269,   797.90938568,   790.03259983,   785.56247297,\n",
            "         774.47113695,   765.44196342,   746.84409905,   738.40471207,\n",
            "         726.50890692,   706.64400672,   700.10572587,   692.61713344,\n",
            "         684.0485208 ,   678.43162193,   677.70875601,   670.21704746,\n",
            "         657.1904033 ,   650.00384387,   643.55772352,   629.69459597,\n",
            "         625.00500441,   621.59602953,   611.60943896,   607.14509049,\n",
            "         594.46867186,   584.59357431,   581.47308038,   574.64232646,\n",
            "         564.41111238,   556.22183991,   551.93152516,   538.82411518,\n",
            "         532.70319057,   530.79159102,   522.61169602,   516.73468565,\n",
            "         512.47029391,   504.29379828,   500.85507693,   489.08809463,\n",
            "         483.73473138,   480.65643041,   470.21379029,   465.54323251,\n",
            "         456.82240429,   449.94957506,   447.5181461 ,   440.86615373,\n",
            "         436.30736175,   429.27257521,   428.80427176,   415.35999426,\n",
            "         406.4910435 ,   404.28401317,   402.36411329,   395.92912505,\n",
            "         392.33552659,   388.23180301,   385.00635056,   381.92592577,\n",
            "         377.06267977,   375.62170619,   373.13889516,   361.44229398,\n",
            "         357.70669314,   354.47566481,   349.25183118,   345.95784877,\n",
            "         340.64269833,   338.32205346,   330.11044889,   328.92591497,\n",
            "         325.87968574,   318.54011315,   313.90256325,   310.1547724 ,\n",
            "         305.13933369,   304.20081771,   298.57108452,   297.23543517,\n",
            "         290.88726708,   287.03715547,   283.73258226,   279.99980252,\n",
            "         275.03514612,   274.19723583,   271.72826662,   262.87849865,\n",
            "         260.56265709,   254.44570628,   250.69367576,   247.11730029,\n",
            "         244.66441721,   242.58789417,   239.97780637,   229.91248599,\n",
            "         228.66267731,   220.59076132,   217.4344648 ,   214.02644548,\n",
            "         213.41249602,   207.64588922,   205.81509518,   201.45511978,\n",
            "         198.49132929,   197.25748637,   193.49857466,   190.23412019,\n",
            "         188.96084779,   186.82531907,   182.66421196,   178.81352247,\n",
            "         175.28202225,   171.93959809,   167.71845384,   163.50071908,\n",
            "         161.51063966,   158.59470215,   155.83806442,   153.26402321,\n",
            "         149.44736432,   145.1213046 ,   142.88222124,   141.17297057,\n",
            "         138.71049757,   134.99131756,   133.86636341,   126.66521976,\n",
            "         124.47149265,   121.2447665 ,   120.58307692,   117.33068836,\n",
            "         110.2325047 ,   106.91325004,   104.49862326,   100.15066528,\n",
            "          97.03153328,    93.67833383,    87.59065396,    83.75791183,\n",
            "          80.29704206,    77.75849601])], [array([[ 0.07314624,  0.07823095,  0.07010037, ...,  0.09533571,\n",
            "         0.0941722 ,  0.11166205],\n",
            "       [-0.02217371, -0.0192465 , -0.08880391, ..., -0.02827992,\n",
            "         0.03342492,  0.01421791],\n",
            "       [-0.03160083, -0.06067894,  0.10118993, ...,  0.08268286,\n",
            "        -0.07352835,  0.01577299],\n",
            "       ...,\n",
            "       [ 0.02880598, -0.01300005, -0.05043534, ..., -0.04704893,\n",
            "         0.00566223,  0.01520176],\n",
            "       [ 0.12382243,  0.0830805 ,  0.02318189, ...,  0.12913682,\n",
            "        -0.11528613,  0.06114868],\n",
            "       [ 0.06505038, -0.02896603, -0.03954239, ..., -0.09109337,\n",
            "        -0.03092146,  0.03136029]]), array([[ 0.07233473,  0.05600569,  0.04065775, ...,  0.06835251,\n",
            "         0.07205078,  0.09907078],\n",
            "       [-0.08425789,  0.10389184,  0.08484221, ...,  0.0743082 ,\n",
            "         0.01965882,  0.0347554 ],\n",
            "       [ 0.04307512,  0.12607638,  0.08423975, ..., -0.05956495,\n",
            "        -0.10698809, -0.04796084],\n",
            "       ...,\n",
            "       [-0.04233377, -0.01399327,  0.01718278, ..., -0.03212001,\n",
            "         0.02977935,  0.06262787],\n",
            "       [-0.01251854,  0.01436043, -0.02737545, ..., -0.17683856,\n",
            "        -0.00143262,  0.01498328],\n",
            "       [ 0.00246761,  0.03198932, -0.18081318, ..., -0.19111424,\n",
            "        -0.01573135,  0.05207583]]), array([[ 0.07357183,  0.06149476,  0.09434471, ...,  0.06579389,\n",
            "         0.02784186,  0.05960808],\n",
            "       [-0.04618612, -0.00035279,  0.06970143, ...,  0.04265115,\n",
            "         0.06599327,  0.05820746],\n",
            "       [ 0.06849962, -0.01892813, -0.06715867, ...,  0.14207069,\n",
            "         0.04286132, -0.01732241],\n",
            "       ...,\n",
            "       [ 0.0579439 , -0.02883372, -0.07446857, ..., -0.0760344 ,\n",
            "        -0.09897411,  0.02515038],\n",
            "       [ 0.04772531,  0.06058184, -0.09091082, ..., -0.02441866,\n",
            "         0.06243919,  0.01159698],\n",
            "       [ 0.11585949, -0.05072045, -0.06911567, ...,  0.09172966,\n",
            "         0.01253661,  0.23115993]]), array([[ 0.09349185,  0.08308285,  0.07988097, ...,  0.10054375,\n",
            "         0.07269825,  0.06113896],\n",
            "       [-0.03364622, -0.00708533,  0.14735547, ..., -0.07913306,\n",
            "        -0.00378368,  0.14254917],\n",
            "       [-0.12567629,  0.04763265,  0.07617068, ...,  0.06977679,\n",
            "         0.11748219, -0.04716853],\n",
            "       ...,\n",
            "       [ 0.10592011, -0.20899237, -0.03130903, ...,  0.22680366,\n",
            "         0.03603091,  0.00775746],\n",
            "       [ 0.03624547,  0.16718235, -0.06330035, ...,  0.06293835,\n",
            "        -0.07500252, -0.05440919],\n",
            "       [-0.01971155, -0.10865048,  0.03032467, ...,  0.0514638 ,\n",
            "         0.01017816,  0.01357117]]), array([[ 0.04371126,  0.06293814,  0.08414151, ...,  0.0599569 ,\n",
            "         0.10822266,  0.05141504],\n",
            "       [-0.06705883,  0.09876442, -0.12495575, ..., -0.07435671,\n",
            "        -0.09890809,  0.08283865],\n",
            "       [-0.07940917, -0.05159855, -0.04571967, ..., -0.06523625,\n",
            "        -0.01262048,  0.06637172],\n",
            "       ...,\n",
            "       [ 0.00142792,  0.07331288, -0.02082655, ..., -0.06402433,\n",
            "         0.07402869,  0.02506469],\n",
            "       [-0.0216575 ,  0.04436255, -0.01877989, ...,  0.00875358,\n",
            "        -0.07872714, -0.05932086],\n",
            "       [-0.00443736, -0.0104101 ,  0.01367728, ..., -0.03647887,\n",
            "        -0.03147513,  0.02416867]]), array([[ 0.02861755,  0.04398556,  0.06470622, ...,  0.06017744,\n",
            "         0.12199731,  0.06553572],\n",
            "       [ 0.0928925 ,  0.09009512,  0.08232555, ..., -0.05572285,\n",
            "        -0.09087064, -0.0269982 ],\n",
            "       [ 0.06370152,  0.01597762,  0.0251869 , ...,  0.02172757,\n",
            "        -0.01834794,  0.07423775],\n",
            "       ...,\n",
            "       [-0.09369402,  0.02666279, -0.0254162 , ..., -0.04701771,\n",
            "         0.0016722 , -0.0151311 ],\n",
            "       [ 0.07766108, -0.05254002, -0.00338239, ...,  0.06294175,\n",
            "        -0.03397649,  0.05422816],\n",
            "       [-0.03390105, -0.05415148, -0.05012993, ..., -0.03722942,\n",
            "        -0.02022633, -0.04537986]]), array([[ 0.07622824,  0.03795642,  0.05065462, ...,  0.07926105,\n",
            "         0.09606349,  0.04588503],\n",
            "       [ 0.03695296, -0.01545093,  0.04376636, ..., -0.04326898,\n",
            "        -0.04966306,  0.02512777],\n",
            "       [-0.04784932,  0.063785  ,  0.08110764, ...,  0.11518011,\n",
            "         0.03907157,  0.0838231 ],\n",
            "       ...,\n",
            "       [ 0.02144206, -0.19226274,  0.03222994, ..., -0.19861172,\n",
            "         0.0200567 ,  0.03157829],\n",
            "       [-0.05178234,  0.0845366 , -0.07998723, ..., -0.14655178,\n",
            "        -0.07470793, -0.1022244 ],\n",
            "       [-0.02502245, -0.04796039,  0.02736909, ..., -0.17710493,\n",
            "        -0.03617147, -0.06972783]]), array([[ 0.07677729,  0.03997729,  0.05405748, ...,  0.06675475,\n",
            "         0.03967175,  0.10865768],\n",
            "       [ 0.05843662,  0.04172795, -0.02193077, ...,  0.00209743,\n",
            "        -0.06227455, -0.10019534],\n",
            "       [ 0.09241146,  0.03765936, -0.09584996, ..., -0.07960048,\n",
            "        -0.01308817,  0.00796183],\n",
            "       ...,\n",
            "       [-0.0089496 ,  0.00915182, -0.02463873, ..., -0.14001139,\n",
            "         0.00632126, -0.05978211],\n",
            "       [-0.10418827, -0.00994416, -0.00610025, ...,  0.05331942,\n",
            "        -0.06151784, -0.04456704],\n",
            "       [-0.13133393,  0.05463705,  0.02347843, ...,  0.00457217,\n",
            "        -0.02420921,  0.04001293]]), array([[ 0.07594981,  0.08093339,  0.08040091, ...,  0.07152833,\n",
            "         0.06158594,  0.06074348],\n",
            "       [-0.0825802 , -0.11377412, -0.00277869, ...,  0.12497693,\n",
            "         0.13765056,  0.12692334],\n",
            "       [ 0.04551625, -0.00018102,  0.11610537, ...,  0.11607133,\n",
            "         0.05154146, -0.12118484],\n",
            "       ...,\n",
            "       [-0.12987808,  0.08080221,  0.0545308 , ..., -0.0840792 ,\n",
            "         0.07547076,  0.00317734],\n",
            "       [-0.0197642 ,  0.02584735, -0.08685015, ...,  0.02593857,\n",
            "        -0.05936513, -0.01613408],\n",
            "       [-0.11787894, -0.01125206,  0.16782383, ..., -0.00496125,\n",
            "        -0.06506282,  0.00731796]]), array([[ 7.22893089e-02,  5.17197467e-02,  4.74005654e-02, ...,\n",
            "         5.89493693e-02,  4.55859072e-02,  8.40824604e-02],\n",
            "       [-1.04215585e-02, -9.65251502e-02, -6.93870572e-02, ...,\n",
            "         4.58267334e-02,  4.14850840e-02,  1.26726717e-01],\n",
            "       [-6.87892864e-02,  3.86683844e-02,  5.96578659e-02, ...,\n",
            "        -1.43452364e-02, -6.27625562e-02,  1.29732194e-06],\n",
            "       ...,\n",
            "       [-8.49047075e-02,  1.02773271e-01, -4.29580091e-02, ...,\n",
            "        -5.93010620e-02,  3.56077864e-02, -4.87207413e-02],\n",
            "       [-6.91053738e-02, -3.32770779e-02,  2.28227947e-02, ...,\n",
            "         3.24460591e-03,  6.03481215e-03,  1.87013269e-02],\n",
            "       [ 5.80914493e-02, -4.63158684e-03,  1.86121480e-01, ...,\n",
            "        -3.44488162e-02,  1.41677213e-02,  4.53579023e-04]])])\n"
          ]
        }
      ]
    },
    {
      "cell_type": "code",
      "source": [
        "#tarda 2/3 minutos en cargar por lo que lo cargamos una vez, guardamos los valores y luego los utilizamos sin la necesidad de que cargue de nuevo\n",
        "#guardamos los valores en variables para no tener que esperar que carguen cada vez que se usan en alguna funcion\n",
        "descomposicionMatrices = descomposicionSVDDeTodasMatrices(Mi09)\n",
        "U0 = descomposicionMatrices[0][0]\n",
        "U1 = descomposicionMatrices[0][1]\n",
        "U2 = descomposicionMatrices[0][2]\n",
        "U3 = descomposicionMatrices[0][3]\n",
        "U4 = descomposicionMatrices[0][4]\n",
        "U5 = descomposicionMatrices[0][5]\n",
        "U6 = descomposicionMatrices[0][6]\n",
        "U7 = descomposicionMatrices[0][7]\n",
        "U8 = descomposicionMatrices[0][8]\n",
        "U9 = descomposicionMatrices[0][9]\n"
      ],
      "metadata": {
        "id": "aNyRGiF_aefK"
      },
      "execution_count": null,
      "outputs": []
    },
    {
      "cell_type": "code",
      "source": [
        "U = [U0,U1,U2,U3,U4,U5,U6,U7,U8,U9]"
      ],
      "metadata": {
        "id": "waDDeCsV9zgb"
      },
      "execution_count": null,
      "outputs": []
    },
    {
      "cell_type": "code",
      "source": [
        "#4.c\n",
        "#graficos de la primer columna de Ui\n",
        "#representan los graficos de la imagen promedio, son iguales\n",
        "def muestro1erColumnaU():\n",
        "  fig, axes = plt.subplots(2, 5, figsize=(10, 4))\n",
        "  for i in range(10):\n",
        "    matrizU = U[i]\n",
        "    columna1 = matrizU[:, 0]\n",
        "    imagen = columna1.reshape((28, 28))\n",
        "    row = i // 5\n",
        "    col = i % 5\n",
        "    axes[row, col].imshow(imagen, cmap=\"gray\")\n",
        "    axes[row, col].set_title(\"Primer columna %i\" % i)\n",
        "\n",
        "  plt.tight_layout()\n",
        "  plt.show()"
      ],
      "metadata": {
        "id": "TZ-cHa9MRh4V"
      },
      "execution_count": null,
      "outputs": []
    },
    {
      "cell_type": "code",
      "source": [
        "muestro1erColumnaU()"
      ],
      "metadata": {
        "colab": {
          "base_uri": "https://localhost:8080/",
          "height": 413
        },
        "id": "ukX4SrWImZ83",
        "outputId": "42c21f14-2217-43c4-a49a-d7d49be90583"
      },
      "execution_count": null,
      "outputs": [
        {
          "output_type": "display_data",
          "data": {
            "text/plain": [
              "<Figure size 1000x400 with 10 Axes>"
            ],
            "image/png": "[encoded data removed]"
          },
          "metadata": {}
        }
      ]
    },
    {
      "cell_type": "code",
      "source": [
        "#4.d\n",
        "def muestro2daColumnaU():\n",
        "  fig, axes = plt.subplots(2, 5, figsize=(10, 4))\n",
        "  for i in range(10):\n",
        "    matrizU = U[i]\n",
        "    columna2 = matrizU[:, 1]\n",
        "    imagen = columna2.reshape((28, 28))\n",
        "    row = i // 5\n",
        "    col = i % 5\n",
        "    axes[row, col].imshow(imagen, cmap=\"gray\")\n",
        "    axes[row, col].set_title(\"Segunda columna %i\" % i)\n",
        "\n",
        "  plt.tight_layout()\n",
        "  plt.show()"
      ],
      "metadata": {
        "id": "0HVWdMAMUO8F"
      },
      "execution_count": null,
      "outputs": []
    },
    {
      "cell_type": "code",
      "source": [
        "muestro2daColumnaU()"
      ],
      "metadata": {
        "colab": {
          "base_uri": "https://localhost:8080/",
          "height": 413
        },
        "id": "DgLABNXFKf4s",
        "outputId": "f732a7ab-ab11-4453-d8ca-71c094dbbbdf"
      },
      "execution_count": null,
      "outputs": [
        {
          "output_type": "display_data",
          "data": {
            "text/plain": [
              "<Figure size 1000x400 with 10 Axes>"
            ],
            "image/png": "[encoded data removed]"
          },
          "metadata": {}
        }
      ]
    },
    {
      "cell_type": "code",
      "source": [
        "#4.d\n",
        "def muestro3raColumnaU():\n",
        "  fig, axes = plt.subplots(2, 5, figsize=(10, 4))\n",
        "  for i in range(10):\n",
        "    matrizU = U[i]\n",
        "    columna3 = matrizU[:, 2]\n",
        "    imagen = columna3.reshape((28, 28))\n",
        "    row = i // 5\n",
        "    col = i % 5\n",
        "    axes[row, col].imshow(imagen, cmap=\"gray\")\n",
        "    axes[row, col].set_title(\"Tercera columna %i\" % i)\n",
        "\n",
        "  plt.tight_layout()\n",
        "  plt.show()"
      ],
      "metadata": {
        "id": "vnpfSgp4UYfA"
      },
      "execution_count": null,
      "outputs": []
    },
    {
      "cell_type": "code",
      "source": [
        "muestro3raColumnaU()"
      ],
      "metadata": {
        "colab": {
          "base_uri": "https://localhost:8080/",
          "height": 413
        },
        "id": "sYsmdSsKKvAN",
        "outputId": "b52808c0-d06d-4a74-9c56-6ce5dadebde0"
      },
      "execution_count": null,
      "outputs": [
        {
          "output_type": "display_data",
          "data": {
            "text/plain": [
              "<Figure size 1000x400 with 10 Axes>"
            ],
            "image/png": "[encoded data removed]"
          },
          "metadata": {}
        }
      ]
    },
    {
      "cell_type": "markdown",
      "source": [
        "Las diferencias entre estas imagenes y las de la primer columna son que estas son una especie de construccion de la imagen promedio porque tienen la misma silueta pero con una mayor tonalidad de grises y a medida que mas te alejas mas grises tiene y mas variacion hay entre los blancos y negros. Estas diferencias se deben a los diferentes modos de iluminación o estructuras principales que capturan las columnas de U en la svd. Cada columna de U captura componentes cada vez menos importantes de la imagen original, representando un modo distinto de iluminacion, por eso varian los negros, blancos y grises en cada imagen. La primer columna representa la iluminacion promedio de la imagen en cambio el resto representan modos distintos y estructuras aidicionales.\n"
      ],
      "metadata": {
        "id": "P05gO1a8IqZI"
      }
    },
    {
      "cell_type": "code",
      "source": [
        "#4.e\n",
        "def Uk(u,k):\n",
        "  return u[:,:k]\n",
        "\n",
        "def proyeccionOrtogonal(u,k):\n",
        "  U = Uk(u,k)\n",
        "  proyeccion = U @ np.transpose(U)\n",
        "  return proyeccion\n",
        "\n",
        "def residuo(u,k,imagen):\n",
        "  U = proyeccionOrtogonal(u,k)\n",
        "  x = np.array(imagen)\n",
        "  residuo = np.linalg.norm(x - U @ x)\n",
        "  return residuo\n",
        "\n",
        "def minimosResiduos(U,k,test,x):\n",
        " casosTotales = x\n",
        " residuosK = []\n",
        " listaDeMinimosResiudos = []\n",
        " sinNumero = test.iloc[0:x, 1:785]\n",
        " for j in range(x):\n",
        "   residuosK = []\n",
        "   for i in range(10):\n",
        "     r = residuo(U[i],k,sinNumero.iloc[j].values)\n",
        "     residuosK.append(r)\n",
        "   x= min(residuosK)\n",
        "   p=np.argmin(residuosK)\n",
        "   listaDeMinimosResiudos.append(p)\n",
        "\n",
        " return listaDeMinimosResiudos\n",
        "\n",
        "def precisionResiduos(U,test,x):\n",
        "  listaDeResiduos = []\n",
        "  for k in range(1,6):\n",
        "    ki = precision(minimosResiduos(U,k,test,x),test,x)\n",
        "    listaDeResiduos.append(ki)\n",
        "  return listaDeResiduos\n",
        "\n",
        "def precisionResiduosPorRango(U,test,x):\n",
        "  r = precisionResiduos(U,test,x)\n",
        "  for i in range(5):\n",
        "    print(\"Para el rango de k =\",i+1, \"la precision es\",r[i])\n"
      ],
      "metadata": {
        "id": "U4rR6C1zP3fV"
      },
      "execution_count": null,
      "outputs": []
    },
    {
      "cell_type": "code",
      "source": [
        "precisionResiduos(U,test_data,200)"
      ],
      "metadata": {
        "colab": {
          "base_uri": "https://localhost:8080/"
        },
        "id": "yo7JlFiv6qiA",
        "outputId": "1fddf6ae-7ec9-42f6-aa1e-4f483429e309"
      },
      "execution_count": null,
      "outputs": [
        {
          "output_type": "execute_result",
          "data": {
            "text/plain": [
              "[0.77, 0.87, 0.925, 0.94, 0.945]"
            ]
          },
          "metadata": {},
          "execution_count": 45
        }
      ]
    },
    {
      "cell_type": "code",
      "source": [
        "precisionResiduosPorRango(U,test_data,200)"
      ],
      "metadata": {
        "colab": {
          "base_uri": "https://localhost:8080/"
        },
        "id": "htIYXb8u_bDy",
        "outputId": "9c226f77-d1ee-40c6-aeb0-830761e36f77"
      },
      "execution_count": null,
      "outputs": [
        {
          "output_type": "stream",
          "name": "stdout",
          "text": [
            "Para el rango de k = 1 la precision es 0.77\n",
            "Para el rango de k = 2 la precision es 0.87\n",
            "Para el rango de k = 3 la precision es 0.925\n",
            "Para el rango de k = 4 la precision es 0.94\n",
            "Para el rango de k = 5 la precision es 0.945\n"
          ]
        }
      ]
    },
    {
      "cell_type": "code",
      "source": [
        "#5\n",
        "print(precision(distanciaEuclidea(test_data,200),test_data,200))\n",
        "print(precisionResiduos(U,test_data,200))"
      ],
      "metadata": {
        "colab": {
          "base_uri": "https://localhost:8080/"
        },
        "id": "aTQWgstz4RB5",
        "outputId": "2bbbd3d1-6271-44fa-8639-aa2a4ea4851a"
      },
      "execution_count": null,
      "outputs": [
        {
          "output_type": "stream",
          "name": "stdout",
          "text": [
            "0.77\n",
            "[0.77, 0.87, 0.925, 0.94, 0.945]\n"
          ]
        }
      ]
    },
    {
      "cell_type": "markdown",
      "source": [
        "Finalmente comparar los resultados obtenidos para la precision entre los ejercicios 2 y 4. ¿Que puede\n",
        "observar?\n",
        "\n",
        "Se puede observar que para el menor k la precision es la misma que en el ejercicio 2, lo que se ve tambien en el grafico de la primer columna de las U que es igual a los graficos de las imagenes promedio para las cuales ya habiamos comprobado que su precision no era muy buena, y a medida que el k aumenta cada vez hay mejor precision debido a que se pueden ver y comparar mejor las imagenes porque hay mas posibilidades y se da lugar a que tome mas cosas que en k=1 estan mas restringidas por eso hay menos casos acertados. Se puede afirmar que el metodo svd a mayor rango es la mejor forma de aproximar las imagenes de entrenamiento a las de testeo ya que hay menor pérdida de información: La aproximación mediante la descomposición SVD conserva la mayor cantidad de información posible de las imágenes originales. A diferencia de una imagen promedio, que podría eliminar detalles y características específicas de las imágenes individuales, la descomposición SVD captura múltiples componentes que representan diferentes aspectos y variaciones presentes en el conjunto, esto permite una mejor conservación de la información y una reconstrucción más fiel de las imágenes originales. La descomposición SVD permite capturar diferentes modos de variabilidad y adaptarse a la diversidad del conjunto, cosa que un en un promedio puede perderse."
      ],
      "metadata": {
        "id": "91aPowlIAwY0"
      }
    },
    {
      "cell_type": "code",
      "source": [
        "#imprimimos los casos no acertados para cada k para ver en cuales dio distitno y en cuales igual\n",
        "print(casos_no_acertados(minimosResiduos(U,1,test_data,200),test_data,200))\n",
        "print(casos_no_acertados(minimosResiduos(U,2,test_data,200),test_data,200))\n",
        "print(casos_no_acertados(minimosResiduos(U,3,test_data,200),test_data,200))\n",
        "print(casos_no_acertados(minimosResiduos(U,4,test_data,200),test_data,200))\n",
        "print(casos_no_acertados(minimosResiduos(U,5,test_data,200),test_data,200))"
      ],
      "metadata": {
        "colab": {
          "base_uri": "https://localhost:8080/"
        },
        "id": "VBdotkOMBMP3",
        "outputId": "8632f63e-f1b2-460e-ca39-6ea3798464c2"
      },
      "execution_count": null,
      "outputs": [
        {
          "output_type": "stream",
          "name": "stdout",
          "text": [
            "[7, 8, 10, 14, 15, 17, 21, 32, 37, 45, 52, 53, 54, 58, 62, 64, 65, 72, 76, 77, 79, 86, 91, 95, 96, 103, 110, 114, 115, 118, 120, 148, 150, 151, 158, 163, 168, 169, 171, 174, 183, 185, 188, 190, 194, 197]\n",
            "[7, 23, 32, 45, 53, 54, 60, 64, 71, 72, 76, 79, 82, 96, 109, 110, 115, 118, 151, 158, 168, 169, 171, 174, 183, 197]\n",
            "[3, 7, 32, 53, 62, 76, 79, 82, 83, 96, 110, 118, 151, 171, 192]\n",
            "[3, 7, 17, 32, 43, 64, 72, 76, 79, 82, 83, 171]\n",
            "[3, 7, 8, 26, 32, 72, 76, 79, 115, 171, 192]\n"
          ]
        }
      ]
    },
    {
      "cell_type": "code",
      "source": [
        "imagen(8,test_data) #fallo para k = 1 y k = 5 pero para el resto no"
      ],
      "metadata": {
        "colab": {
          "base_uri": "https://localhost:8080/",
          "height": 452
        },
        "id": "-MUPMv5PEGPn",
        "outputId": "5772abf5-2f2b-4efb-c7d3-30c86f5dbf6a"
      },
      "execution_count": null,
      "outputs": [
        {
          "output_type": "display_data",
          "data": {
            "text/plain": [
              "<Figure size 640x480 with 1 Axes>"
            ],
            "image/png": "[encoded data removed]"
          },
          "metadata": {}
        }
      ]
    },
    {
      "cell_type": "code",
      "source": [
        "imagen(3, test_data) #fallo para k = 3,4,5"
      ],
      "metadata": {
        "colab": {
          "base_uri": "https://localhost:8080/",
          "height": 452
        },
        "id": "0nPT33YiEW6H",
        "outputId": "59b207bf-4982-4b91-8ecf-61a3f4b27855"
      },
      "execution_count": null,
      "outputs": [
        {
          "output_type": "display_data",
          "data": {
            "text/plain": [
              "<Figure size 640x480 with 1 Axes>"
            ],
            "image/png": "[encoded data removed]"
          },
          "metadata": {}
        }
      ]
    },
    {
      "cell_type": "code",
      "source": [
        "imagen(21, test_data) #solo fallo para k =1"
      ],
      "metadata": {
        "colab": {
          "base_uri": "https://localhost:8080/",
          "height": 452
        },
        "id": "mRKTE2LEEnkv",
        "outputId": "bd29f652-7ec7-4d4f-cea8-636a9a27e1a7"
      },
      "execution_count": null,
      "outputs": [
        {
          "output_type": "display_data",
          "data": {
            "text/plain": [
              "<Figure size 640x480 with 1 Axes>"
            ],
            "image/png": "[encoded data removed]"
          },
          "metadata": {}
        }
      ]
    }
  ]
}